{
 "cells": [
  {
   "cell_type": "code",
   "execution_count": 1,
   "id": "300adebb",
   "metadata": {
    "scrolled": true
   },
   "outputs": [
    {
     "name": "stdout",
     "output_type": "stream",
     "text": [
      "Requirement already satisfied: rebound in c:\\users\\bryan\\anaconda3\\lib\\site-packages (4.4.3)\n",
      "Note: you may need to restart the kernel to use updated packages.\n"
     ]
    }
   ],
   "source": [
    "%pip install rebound"
   ]
  },
  {
   "cell_type": "code",
   "execution_count": 2,
   "id": "6bea648a",
   "metadata": {},
   "outputs": [],
   "source": [
    "a= [ 0.0677, 0.1189, 0.1662 , 0.2138, 0.2535] #au"
   ]
  },
  {
   "cell_type": "code",
   "execution_count": 3,
   "id": "72c21fc2",
   "metadata": {},
   "outputs": [],
   "source": [
    "import rebound\n",
    "import numpy as np\n",
    "import astropy.units as u\n",
    "import matplotlib.pyplot as plt"
   ]
  },
  {
   "cell_type": "code",
   "execution_count": 17,
   "id": "bd7d0403",
   "metadata": {},
   "outputs": [],
   "source": [
    "mass_earth = 3*10**-6 #solar masses\n",
    "start_x = [0.06769998,  1.18900000e-01  , 0.1662    , 0.2138    , 0.2535]\n",
    "start_y = [5.01579636e-05,0,  3.76400590e-05, 1.23601018e-05, 2.72122722e-06]\n",
    "v0x = np.array( [0.07462658395619551, 0.05659626765330703, 0.04790208125104128, 0.04224355397579091, 0.03884847500678671])\n",
    "v0y = np.array([5.52897859478072e-05, 0.0, 1.0848599329982713e-05, 2.4421638303104e-06, 4.170237775156792e-07])*-1"
   ]
  },
  {
   "cell_type": "code",
   "execution_count": 39,
   "id": "59ce9604",
   "metadata": {},
   "outputs": [],
   "source": [
    "kep33 = rebound.Simulation() # This sets up our system\n",
    "# kep33.integrator = 'whfast'\n",
    "\n",
    "# hmmm what units?\n",
    "star = kep33.add(m=1.29,x=0,y=0,z=0) #star\n",
    "kepb = kep33.add(m=3.68*mass_earth,x = start_x[0] , y =  start_y[0], z = 0, vx = v0x[0],vy= v0y[0]) #closest\n",
    "kepc = kep33.add(m=0.39*mass_earth,x = start_x[1] , y =start_y[1],z = 0 ,vx = v0x[1], vy = v0y[1])\n",
    "#kepd = kep33.add(m=3.91*mass_earth,x = start_x[2] , y = start_y[2] ,z = 0 ,vx = v0x[2],vy = v0y[2])\n",
    "#kepe = kep33.add(m=5.57*mass_earth,x = start_x[3], y = start_y[3] ,z = 0,vx = v0x[3], vy= v0y[3])\n",
    "#kepf = kep33.add(m=9.6*mass_earth, x = start_x[4] , y = start_y[4] ,z = 0,vx = v0x[4], vy= v0y[4]) #farthest\n",
    "\n",
    "\n",
    "kep33.move_to_com() # Moving our system to the centre of mass frame, which should be in the star."
   ]
  },
  {
   "cell_type": "code",
   "execution_count": 40,
   "id": "e47b5b07",
   "metadata": {},
   "outputs": [
    {
     "name": "stdout",
     "output_type": "stream",
     "text": [
      "5.01579636e-05\n"
     ]
    }
   ],
   "source": [
    "print(kep33.particles[1].y)"
   ]
  },
  {
   "cell_type": "code",
   "execution_count": 41,
   "id": "da4e5c01",
   "metadata": {},
   "outputs": [
    {
     "data": {
      "text/plain": [
       "<matplotlib.legend.Legend at 0x19201e8e7c0>"
      ]
     },
     "execution_count": 41,
     "metadata": {},
     "output_type": "execute_result"
    },
    {
     "data": {
      "image/png": "[encoded data removed]",
      "text/plain": [
       "<Figure size 432x288 with 1 Axes>"
      ]
     },
     "metadata": {
      "needs_background": "light"
     },
     "output_type": "display_data"
    }
   ],
   "source": [
    "plt.scatter(kep33.particles[0].x,kep33.particles[0].y, label = 'star',s=100,marker =(5,1),color = 'yellow')\n",
    "plt.scatter(kep33.particles[1].x,kep33.particles[1].y, label = 'b')\n",
    "plt.scatter(kep33.particles[2].x,kep33.particles[2].y, label = 'c')\n",
    "#plt.scatter(kep33.particles[3].x,kep33.particles[3].y, label = 'd')\n",
    "#plt.scatter(kep33.particles[4].x,kep33.particles[4].y, label = 'e')\n",
    "#plt.scatter(kep33.particles[5].x,kep33.particles[5].y, label = 'f')\n",
    "plt.legend()\n"
   ]
  },
  {
   "cell_type": "code",
   "execution_count": 42,
   "id": "568a350c",
   "metadata": {},
   "outputs": [],
   "source": [
    "\n",
    "times = np.arange(0,1,0.0001) # 30 randomly spaced observations\n",
    "N = len(times) \n",
    "# times =times[0:174]\n",
    "p1,p2,p3,p4,p5 = np.zeros((N,2)), np.zeros((N,2)),np.zeros((N,2)),np.zeros((N,2)),np.zeros((N,2))\n",
    "\n",
    "for i, t in enumerate(times):\n",
    "#     print(i)\n",
    "    kep33.integrate(times[i])\n",
    "#     print(i)\n",
    "    p1[i] = np.array([kep33.particles[1].x, kep33.particles[1].y])\n",
    "    p2[i] = np.array([kep33.particles[2].x, kep33.particles[2].y])\n",
    "    #p3[i] = np.array([kep33.particles[3].x, kep33.particles[3].y])\n",
    "    #p4[i] = np.array([kep33.particles[4].x, kep33.particles[4].y])\n",
    "    #p5[i] = np.array([kep33.particles[5].x, kep33.particles[5].y])\n",
    "        \n"
   ]
  },
  {
   "cell_type": "code",
   "execution_count": 43,
   "id": "ee3b816e",
   "metadata": {},
   "outputs": [
    {
     "data": {
      "image/png": "[encoded data removed]",
      "text/plain": [
       "<Figure size 432x288 with 1 Axes>"
      ]
     },
     "metadata": {
      "needs_background": "light"
     },
     "output_type": "display_data"
    }
   ],
   "source": [
    "plt.scatter(kep33.particles[0].x,kep33.particles[0].y, label = 'star',s=1000,marker =(5,1),color = 'yellow')\n",
    "plt.scatter(p1[:, 0], p1[:, 1], label = 'b')\n",
    "#plt.scatter(p2[:, 0], p2[:, 1], label = 'c')\n",
    "# plt.scatter(p3[:, 0], p3[:, 1], label = 'd')\n",
    "# plt.scatter(p4[:, 0], p4[:, 1], label = 'e')\n",
    "# plt.scatter(p5[:, 0], p5[:, 1], label = 'f')\n",
    "plt.legend()\n",
    "\n",
    "\n",
    "plt.show()\n"
   ]
  },
  {
   "cell_type": "code",
   "execution_count": 23,
   "id": "dc3ce2e1",
   "metadata": {},
   "outputs": [
    {
     "data": {
      "image/png": "[encoded data removed]",
      "text/plain": [
       "<Figure size 432x288 with 1 Axes>"
      ]
     },
     "metadata": {
      "needs_background": "light"
     },
     "output_type": "display_data"
    }
   ],
   "source": [
    "import numpy as np\n",
    "import matplotlib.pyplot as plt\n",
    "from matplotlib.animation import FuncAnimation\n",
    "\n",
    "# Set up the figure and axis\n",
    "fig, ax = plt.subplots()\n",
    "ax.set_xlim(-2, 2)  # Set the x-axis limit, adjust according to your data\n",
    "ax.set_ylim(-2, 2)  # Set the y-axis limit, adjust according to your data\n",
    "\n",
    "# Example: Planet positions over time for 5 planets\n",
    "# (n_points, 5 planets, 2 coordinates for x, y)\n",
    "n_points = N  # Number of time steps\n",
    "n_planets = 5   # Number of planets (p1 to p5)\n",
    "\n",
    "# Example: Random positions over time (replace with your actual data)\n",
    "planet_positions = [p1,p2,p3,p4,p5]\n",
    "\n",
    "# Initialize the scatter plot for the planets\n",
    "planet_scatter = [ax.plot([], [], 'o', markersize=6)[0] for i in range(n_planets)]\n",
    "\n",
    "# Initialize the lines for the trails (dotted lines)\n",
    "trail_lines = [ax.plot([], [], linestyle=':', color='gray')[0] for i in range(n_planets)]\n",
    "\n",
    "# List of planet names\n",
    "planet_names = ['p1', 'p2', 'p3', 'p4', 'p5']\n",
    "\n",
    "# Function to initialize the plot for animation\n",
    "def init():\n",
    "    # Initialize empty data\n",
    "    for planet in planet_scatter:\n",
    "        planet.set_data([], [])\n",
    "    for trail in trail_lines:\n",
    "        trail.set_data([], [])\n",
    "    return planet_scatter + trail_lines\n",
    "\n",
    "# Function to update the plot for each frame of the animation\n",
    "def update(frame):\n",
    "    # Update each planet's position and trail\n",
    "    for i in range(n_planets):\n",
    "        # Get current position of the planet at the current time step (frame)\n",
    "        x, y = planet_positions[frame, i]\n",
    "        \n",
    "        # Update the planet's position on the plot\n",
    "        planet_scatter[i].set_data(x, y)\n",
    "        \n",
    "        # Update the planet's trail by adding the previous points up to the current frame\n",
    "        trail_x = planet_positions[:frame + 1, i, 0]\n",
    "        trail_y = planet_positions[:frame + 1, i, 1]\n",
    "        trail_lines[i].set_data(trail_x, trail_y)\n",
    "    \n",
    "    return planet_scatter + trail_lines\n",
    "\n",
    "# Create the animation\n",
    "ani = FuncAnimation(fig, update, frames=N, init_func=init, blit=True, interval=100)\n",
    "\n",
    "# Display the animation\n",
    "plt.show()\n"
   ]
  },
  {
   "cell_type": "code",
   "execution_count": 82,
   "id": "6b37e2b2",
   "metadata": {},
   "outputs": [
    {
     "ename": "AttributeError",
     "evalue": "'list' object has no attribute 'shape'",
     "output_type": "error",
     "traceback": [
      "\u001b[1;31m---------------------------------------------------------------------------\u001b[0m",
      "\u001b[1;31mAttributeError\u001b[0m                            Traceback (most recent call last)",
      "Input \u001b[1;32mIn [82]\u001b[0m, in \u001b[0;36m<cell line: 11>\u001b[1;34m()\u001b[0m\n\u001b[0;32m      8\u001b[0m ax\u001b[38;5;241m.\u001b[39mset_ylim(\u001b[38;5;241m-\u001b[39m\u001b[38;5;241m2\u001b[39m, \u001b[38;5;241m2\u001b[39m)  \u001b[38;5;66;03m# Set the y-axis limit, adjust according to your data\u001b[39;00m\n\u001b[0;32m     10\u001b[0m \u001b[38;5;66;03m# Number of time steps and planets\u001b[39;00m\n\u001b[1;32m---> 11\u001b[0m n_points \u001b[38;5;241m=\u001b[39m \u001b[43mplanet_positions\u001b[49m\u001b[38;5;241;43m.\u001b[39;49m\u001b[43mshape\u001b[49m[\u001b[38;5;241m0\u001b[39m]  \u001b[38;5;66;03m# Derived from the length of the time steps\u001b[39;00m\n\u001b[0;32m     12\u001b[0m n_planets \u001b[38;5;241m=\u001b[39m \u001b[38;5;241m5\u001b[39m  \u001b[38;5;66;03m# You have 5 planets (p1 to p5)\u001b[39;00m\n\u001b[0;32m     14\u001b[0m \u001b[38;5;66;03m# Initialize the scatter plot for the planets (p1 to p5)\u001b[39;00m\n",
      "\u001b[1;31mAttributeError\u001b[0m: 'list' object has no attribute 'shape'"
     ]
    },
    {
     "data": {
      "image/png": "[encoded data removed]",
      "text/plain": [
       "<Figure size 432x288 with 1 Axes>"
      ]
     },
     "metadata": {
      "needs_background": "light"
     },
     "output_type": "display_data"
    }
   ],
   "source": [
    "import numpy as np\n",
    "import matplotlib.pyplot as plt\n",
    "from matplotlib.animation import FuncAnimation\n",
    "\n",
    "# Set up the figure and axis\n",
    "fig, ax = plt.subplots()\n",
    "ax.set_xlim(-2, 2)  # Set the x-axis limit, adjust according to your data\n",
    "ax.set_ylim(-2, 2)  # Set the y-axis limit, adjust according to your data\n",
    "\n",
    "# Number of time steps and planets\n",
    "n_points = planet_positions.shape[0]  # Derived from the length of the time steps\n",
    "n_planets = 5  # You have 5 planets (p1 to p5)\n",
    "\n",
    "# Initialize the scatter plot for the planets (p1 to p5)\n",
    "planet_scatter = [ax.plot([], [], 'o', markersize=6, label=f'p{i+1}')[0] for i in range(n_planets)]\n",
    "\n",
    "# Initialize the lines for the trails (dotted lines)\n",
    "trail_lines = [ax.plot([], [], linestyle=':', color='gray')[0] for _ in range(n_planets)]\n",
    "\n",
    "# List of planet names (optional, for labeling or annotations)\n",
    "planet_names = ['p1', 'p2', 'p3', 'p4', 'p5']\n",
    "\n",
    "# Function to initialize the plot for animation\n",
    "def init():\n",
    "    # Initialize empty data for planets and trails\n",
    "    for planet in planet_scatter:\n",
    "        planet.set_data([], [])\n",
    "    for trail in trail_lines:\n",
    "        trail.set_data([], [])\n",
    "    return planet_scatter + trail_lines\n",
    "\n",
    "# Function to update the plot for each frame of the animation\n",
    "def update(frame):\n",
    "    # Update each planet's position and trail\n",
    "    for i in range(n_planets):\n",
    "        # Get the current position of the planet at the current time step (frame)\n",
    "        x, y = planet_positions[frame, i]\n",
    "        \n",
    "        # Update the planet's position on the plot\n",
    "        planet_scatter[i].set_data(x, y)\n",
    "        \n",
    "        # Update the planet's trail by adding the previous points up to the current frame\n",
    "        trail_x = planet_positions[:frame + 1, i, 0]\n",
    "        trail_y = planet_positions[:frame + 1, i, 1]\n",
    "        trail_lines[i].set_data(trail_x, trail_y)\n",
    "    \n",
    "    return planet_scatter + trail_lines\n",
    "\n",
    "# Create the animation\n",
    "ani = FuncAnimation(fig, update, frames=n_points, init_func=init, blit=True, interval=100)\n",
    "\n",
    "# Display the animation\n",
    "plt.legend()  # Optionally show a legend for planets p1 to p5\n",
    "plt.show()\n"
   ]
  },
  {
   "cell_type": "code",
   "execution_count": null,
   "id": "9d919f62",
   "metadata": {},
   "outputs": [],
   "source": []
  }
 ],
 "metadata": {
  "kernelspec": {
   "display_name": "Python 3 (ipykernel)",
   "language": "python",
   "name": "python3"
  },
  "language_info": {
   "codemirror_mode": {
    "name": "ipython",
    "version": 3
   },
   "file_extension": ".py",
   "mimetype": "text/x-python",
   "name": "python",
   "nbconvert_exporter": "python",
   "pygments_lexer": "ipython3",
   "version": "3.9.12"
  }
 },
 "nbformat": 4,
 "nbformat_minor": 5
}
