{
 "cells": [
  {
   "cell_type": "code",
   "execution_count": 1,
   "id": "6a6112c5",
   "metadata": {},
   "outputs": [],
   "source": [
    "import os\n",
    "#import emcee\n",
    "import rebound\n",
    "import numpy as np\n",
    "import pandas as pd\n",
    "from numba.typed import List\n",
    "from numba import jit, types\n",
    "import astropy.constants as ast\n",
    "import matplotlib.pyplot as plt\n",
    "from matplotlib.animation import FuncAnimation\n",
    "\n",
    "# Getting the current working directory and the path to the data.\n",
    "currDir = os.getcwd()"
   ]
  },
  {
   "cell_type": "code",
   "execution_count": 2,
   "id": "a1b46844",
   "metadata": {},
   "outputs": [],
   "source": [
    "# Useful Constants\n",
    "const ={\n",
    "    'G' :  6.67430e-11, #SI\n",
    "    'R_b' : 0.0677, #AU\n",
    "    'R_c' : 0.1189 , #AU\n",
    "    'R_d' : 0.1662, #AU\n",
    "    'R_e' : 0.2138, #AU\n",
    "    'R_f' : 0.2535, #AU\n",
    "    'P_b' : 5.7, # days\n",
    "    'P_c' : 13.2, # days\n",
    "    'P_d' : 21.8, # days\n",
    "    'P_e' : 31.8, # days\n",
    "    'P_f' : 41,# days\n",
    "    'M_b' : 3.68, #Earth\n",
    "    'M_c' : 0.39, #Earth\n",
    "    'M_d': 3.91, #Earth\n",
    "    'M_e' : 5.57, #Earth\n",
    "    'M_f': 9.6, #Earth\n",
    "    'AU' : 1.496e11, #m\n",
    "    'M_star' : 1.29, # solar mass\n",
    "    'M_sun' : 1.988e30, # kg\n",
    "    'day_to_sec' : 86400,\n",
    "    'M_earth' : 5972e24, #kg\n",
    "    'M_earth_sun' : 3e-6 # solar masses\n",
    "}"
   ]
  },
  {
   "cell_type": "markdown",
   "id": "fa37d424",
   "metadata": {},
   "source": [
    "We are modelling the system of Kepler 33, which has five planets, sublabelled 'b', 'c', 'd', 'e', 'f'."
   ]
  },
  {
   "cell_type": "markdown",
   "id": "23970416",
   "metadata": {},
   "source": [
    "# Handling and Formatting the Transit Timings from Kepler 33"
   ]
  },
  {
   "cell_type": "markdown",
   "id": "3314d34d",
   "metadata": {},
   "source": [
    "### 1. Getting the needed data for TTVs - Setting inital parameters"
   ]
  },
  {
   "cell_type": "code",
   "execution_count": 3,
   "id": "8d1c3e85",
   "metadata": {},
   "outputs": [],
   "source": [
    "conNum = lambda arr, idx: np.array(arr, dtype=object)[idx]\n",
    "\n",
    "def get_transitTimingData(path):\n",
    "    '''\n",
    "    Extracting the timing data. One column gives the predicted transits and the other gives\n",
    "    the predicted minus the observed, and the last one gives the errors in timings. The data\n",
    "    file is organized as follows:\n",
    "    Column 1: Period - considered to be constant (P)\n",
    "    Column 2: Extra time in Period that is not expected due to TTV (pred)\n",
    "    Column 3: Error in data\n",
    "    '''\n",
    "    # Period prediction, Period values with TTVs, Errors\n",
    "    predArr, t0Arr, errArr = [], [], []\n",
    "    \n",
    "    # Load in the data - These are taken from Prof Rowe notes\n",
    "    for file in os.listdir(path):\n",
    "        d = np.loadtxt(path+'/'+file)\n",
    "        \n",
    "        predArr.append(d[:, 0])\n",
    "        t0Arr.append(d[:, 0] + d[:, 1]) # Adding period value + TTV values\n",
    "        errArr.append(d[:, 2])\n",
    "    \n",
    "    # Find the period of the data to determine which data file\n",
    "    # corresponds to which planet and set up our arrays in the order of b, c, d, e, f\n",
    "    P = np.array([np.min(arr[1:] - arr[:-1]) for arr in predArr])\n",
    "    \n",
    "    # We sort by the period (ie. each period corresponds to a specific planet)\n",
    "    # because the data files are not in order. \n",
    "    sIdx = np.argsort(P) # Index of the files in ascending period value\n",
    "    \n",
    "    P_ordered = P[sIdx] # Period in order -> b, c, d, e, f\n",
    "    \n",
    "    # All data arrays in the order of the planets\n",
    "    predArr_ordered = conNum(predArr, sIdx)\n",
    "    t0Arr_ordered = conNum(t0Arr, sIdx)\n",
    "    errArr_ordered = conNum(errArr, sIdx)\n",
    "    \n",
    "    return P_ordered, predArr_ordered, t0Arr_ordered, errArr_ordered ### Why give back P_ordered???"
   ]
  },
  {
   "cell_type": "code",
   "execution_count": 4,
   "id": "4d25e2db",
   "metadata": {},
   "outputs": [],
   "source": [
    "# Getting the data - Period, Predicted Period, Period+TTV, Error \n",
    "P, pred, t0, err = get_transitTimingData(currDir + '/koi707_timing')"
   ]
  },
  {
   "cell_type": "markdown",
   "id": "8346ce4f",
   "metadata": {},
   "source": [
    "### 2. Setting a time zero"
   ]
  },
  {
   "cell_type": "markdown",
   "id": "36fc2a09",
   "metadata": {},
   "source": [
    "We want to start the data at the first recorded TTV. So, we are finding the smallest inital time value out of all the planets and taking it to by our 'time zero'. The other planets will have an offset determined by the extra time before a TTV is recorded. This initial position is described by an angular distance position called 'f'."
   ]
  },
  {
   "cell_type": "code",
   "execution_count": 5,
   "id": "c46fd94c",
   "metadata": {},
   "outputs": [],
   "source": [
    "# Finding the smallest inital time value\n",
    "tranTime1 = np.array([arr[0] for arr in pred])\n",
    "minTran = np.min(tranTime1)\n",
    "\n",
    "b4T0 = tranTime1-minTran # Extra time for each planet"
   ]
  },
  {
   "cell_type": "markdown",
   "id": "f1b4299f",
   "metadata": {},
   "source": [
    "# Orbital Elements"
   ]
  },
  {
   "cell_type": "markdown",
   "id": "f655af48",
   "metadata": {},
   "source": [
    "### 1. Setting up our initial conditions"
   ]
  },
  {
   "cell_type": "markdown",
   "id": "a8f677fb",
   "metadata": {},
   "source": [
    "Parameters we are using: Mass (m), Eccentricity (ecc), Period (P), True anamoly (f). The only value that is left to calculate is f. The inital condition are set up according to previously stated article."
   ]
  },
  {
   "cell_type": "code",
   "execution_count": 6,
   "id": "76d900df",
   "metadata": {},
   "outputs": [],
   "source": [
    "def fCalc(b4T0, P, e):\n",
    "    '''\n",
    "    To approximate the starting positions. First, we find the mean ananomaly, taking T0 as periapsis.\n",
    "    Then, we approximate the eccentric ananomaly as the mean ananomaly as e is small. We then directly\n",
    "    derive our true ananomaly from our eccentric ananomaly, given as the alternate form from\n",
    "    https://en.wikipedia.org/wiki/True_anomaly\n",
    "    '''\n",
    "    M = (P - b4T0)/P # mean ananomaly approximately eccentric ananomaly when e is small.\n",
    "    # The calculation to derive the true \n",
    "    beta = e/(1+np.sqrt(1-e**2))\n",
    "    temp = beta*np.sin(M)/(1-beta*np.cos(M))\n",
    "    f = M + 2*np.arctan(temp)\n",
    "    \n",
    "    return f"
   ]
  },
  {
   "cell_type": "code",
   "execution_count": 7,
   "id": "dd0c36ab",
   "metadata": {},
   "outputs": [],
   "source": [
    "# Eccentricity\n",
    "ecc = np.array([0.2, 0.05, 0.03, 0.02, 0.02])/3\n",
    "\n",
    "# True anamoly -> Need to find it according to 'extra time'\n",
    "f = fCalc(b4T0, P, ecc) # Initial position"
   ]
  },
  {
   "cell_type": "code",
   "execution_count": 8,
   "id": "9231bc9e",
   "metadata": {},
   "outputs": [],
   "source": [
    "# System Parameters\n",
    "# Units of the REBOUND system are Solar Masses, Rad and Days\n",
    "\n",
    "System = {\n",
    "    'Names': ['b', 'c', 'd', 'e', 'f'],\n",
    "    'Mass' : np.array([3.68, 18.3, 7.5, 6.6, 8.2])*const['M_earth_sun'], # Solar masses\n",
    "    'Period' : np.array([5.7, 13.2,  21.8,  31.8,  41]), # Days\n",
    "    'Ecc': ecc, # No units\n",
    "    'Inc': np.array([np.pi/2]*5), # Rad\n",
    "    'Anom': np.array(f) # Rad\n",
    "}"
   ]
  },
  {
   "cell_type": "markdown",
   "id": "7c3de872",
   "metadata": {},
   "source": [
    "# Rebound"
   ]
  },
  {
   "cell_type": "code",
   "execution_count": 9,
   "id": "e979004a",
   "metadata": {},
   "outputs": [],
   "source": [
    "def solve_nBody(orbE):\n",
    "    '''\n",
    "    Set up our system, choosing our integrator and adding our star. Subsequently, we can populate the simulation\n",
    "    with planets. We use Rebound to solve for the positions of our planets, thus solving the 5 body system. \n",
    "    '''\n",
    "    # Set up the system initial positions\n",
    "    kep33 = rebound.Simulation() \n",
    "    kep33.integrator = 'IAS15'\n",
    "    \n",
    "    # Our star is at the centre of the system with no velocity etc, so no orbital elements for it except mass.\n",
    "    kep33.add(m=1.26) # The units are in solar masses.\n",
    "    \n",
    "    # Populating the simulation with our planets. \n",
    "    for i in range(len(orbE[\"Names\"])):\n",
    "        # Plugging in our orbital parameters.\n",
    "        kep33.add(m=orbE['Mass'][i], P=orbE['Period'][i], e=orbE['Ecc'][i], inc=orbE['Inc'][i], f=orbE['Anom'][i])\n",
    " \n",
    "    # Moving our system to the centre of mass frame, which should be in the star\n",
    "    kep33.move_to_com() \n",
    "    \n",
    "    # The Kepler mission ran for 4 years, so we run this for around the same time.\n",
    "    \n",
    "    # the adaptive integrator requires a maximum step size, rule of thumb we ensure 20 points in our smallest period\n",
    "    kep33.dt = np.min(orbE['Period'])/20 #maximum step size in our integrator\n",
    "    \n",
    "    \n",
    "    # Information \n",
    "    times = []\n",
    "    exoPos = {\n",
    "        'star': [],\n",
    "        'b': [],\n",
    "        'c': [],\n",
    "        'd': [],\n",
    "        'e': [],\n",
    "        'f': []\n",
    "    } \n",
    "    \n",
    "    # Set the time frame for the integration\n",
    "    length_integration = 4 # years\n",
    "    \n",
    "    # intial time of the simulation\n",
    "    initial_time = kep33.t\n",
    "    \n",
    "    while kep33.t - initial_time < 365*length_integration:\n",
    "        # append the times \n",
    "        times.append(kep33.t)\n",
    "        \n",
    "        # append star position to ensure it is not moving\n",
    "        exoPos['star'].append([kep33.particles[0].x,kep33.particles[0].y,kep33.particles[0].z])\n",
    "        \n",
    "        # append x,y,z position for each planet\n",
    "        for i in range(len(exoPos)-1):\n",
    "            planet = kep33.particles[i+1] # add 1 to skip the star\n",
    "            exoPos[orbE['Names'][i]].append([planet.x, planet.y, planet.z])\n",
    "\n",
    "        # Integrate forward by one step, the step size is adapted by the integrator\n",
    "        kep33.integrate(kep33.t + 1)   ############################################################################# 0.1?? good or bad???\n",
    "        # to get multiple positions we integrate over 0.1 day but \n",
    "        # the integrator chooses an adaptive step size\n",
    "\n",
    "    return exoPos, times\n"
   ]
  },
  {
   "cell_type": "code",
   "execution_count": 10,
   "id": "e3b21b32",
   "metadata": {},
   "outputs": [],
   "source": [
    "class Orbit:\n",
    "    def __init__(self, planet_path):\n",
    "        self.x = planet_path[:, 0]\n",
    "        self.y = planet_path[:, 1]\n",
    "        self.z = planet_path[:, 2]"
   ]
  },
  {
   "cell_type": "code",
   "execution_count": 11,
   "id": "605ab841",
   "metadata": {},
   "outputs": [],
   "source": [
    "def get_orbits(planet_positions):\n",
    "    '''\n",
    "    Converts values from nbody solver to orbit objects\n",
    "    '''\n",
    "    \n",
    "    orbits = []\n",
    "    \n",
    "    planet_positions['star'] = np.array(planet_positions['star'])\n",
    "    star_orbit = Orbit(planet_positions['star'])\n",
    "\n",
    "    for i in range(len(planet_positions)-1):\n",
    "        planet_positions[System['Names'][i]] = np.array(planet_positions[System['Names'][i]])\n",
    "        orbits.append(Orbit(planet_positions[System['Names'][i]]))\n",
    "        \n",
    "    return star_orbit, orbits\n",
    "\n",
    "\n",
    "def get_model(planets, adjusted_pars, properties):\n",
    "    \"\"\"\n",
    "    Input: the names of the planets, the parameters that have been adjusted and which parameter has been adjusted\n",
    "    \n",
    "    Output: An array of the star position, array of orbits of each planet, times array\n",
    "    \n",
    "    Example usage:\n",
    "    function(['a','b'], [[2,6],[3,4]], ['Mass','Period'])\n",
    "    \"\"\"\n",
    "    for p, planet in enumerate(planets):\n",
    "        index = System['Names'].index(planet)\n",
    "        for i,prop in enumerate(properties):\n",
    "            (System[prop])[index] = adjusted_pars[p][i]                \n",
    "    \n",
    "    planet_positions, times = solve_nBody(System)\n",
    "    \n",
    "    star_orbit, orbits = get_orbits(planet_positions)\n",
    "    return star_orbit, orbits, times"
   ]
  },
  {
   "cell_type": "markdown",
   "id": "593b798d",
   "metadata": {},
   "source": [
    "# MCMC"
   ]
  },
  {
   "cell_type": "markdown",
   "id": "e0a2492a",
   "metadata": {},
   "source": [
    "### 1. Getting Transit Times from the N-Body simulation\n",
    "\n",
    "This is the data that will be used to compare in our MCMC code to determine if the parameters are a good fit."
   ]
  },
  {
   "cell_type": "code",
   "execution_count": 12,
   "id": "14eb0972",
   "metadata": {},
   "outputs": [],
   "source": [
    "# Using jit to optimise our for loop!\n",
    "# @jit(nopython=True)\n",
    "def getTransits(x, y, time):\n",
    "    '''\n",
    "    With our (x,y) position from the data, we want to be able to find where the transits are. This allows us\n",
    "    to compare our findings to the data. Define the transit to be at y=0 in the axis on the right (x positive)\n",
    "    '''\n",
    "    # The y values are actually z values when running the n body since we use a pi/2 inclination\n",
    "    # simulation according to our inclination value\n",
    "    \n",
    "#     # For the values to be compatible with numba\n",
    "#     x = x.astype(np.float64)\n",
    "#     y = y.astype(np.float64)\n",
    "#     time = time.astype(np.float64)\n",
    "#     t_transit = List.empty_list(types.float64)\n",
    "    t_transit = []\n",
    "    \n",
    "    # First, we check if we have a y=0 solution at a positive x value \n",
    "    # If that is the case, the planet is at the right position for it to be a TTV\n",
    "    if len(np.where(y == 0)[0]) != 0:\n",
    "        zeroMask = np.logical_and(x>=0, y==0)\n",
    "        indices = np.arange(len(y))[zeroMask]\n",
    "        for idx in indices:\n",
    "            # Adding time according to index\n",
    "            t_transit.append(float(time[idx])) #### TO CHECK\n",
    "        \n",
    "    else:\n",
    "        # Getting array where y value changes sign\n",
    "        index = np.where(np.diff(np.sign(y)))[0] \n",
    "\n",
    "        for i in index:\n",
    "\n",
    "            if np.abs(x[i]) == x[i]: # Verifying if x is positive\n",
    "                \n",
    "                if i == len(index):\n",
    "                     t_transit.append(time[i])\n",
    "                else:\n",
    "                    # Taking proportion to interpolate time value at y=0\n",
    "                    diff = np.abs(y[i]-y[i+1])\n",
    "                    prop = np.abs(y[i])/diff\n",
    "                    new_dt = prop*(time[i]-time[i+1])\n",
    "                    t = time[i]+new_dt #Time at index and additional time\n",
    "                    t_transit.append(float(t))  \n",
    "    \n",
    "    return np.sort(t_transit) # Making sure the time is in ascending order\n",
    "\n",
    "def systemTransits(orbPars):\n",
    "    '''\n",
    "    Input: Orbital parameters to be changed by MCMC (array of arrays) \n",
    "    Output: Array of arrays of transit times\n",
    "    \n",
    "    We compute the simulation and get our transit times from this\n",
    "    '''\n",
    "    # What we identify in here is what will change in the function - NEED TO MODIFY ACCORDING TO WHAT CHANGES\n",
    "    # orbPars = [[],[],[]] -> [b, c, d]\n",
    "    star_orbit, p_orbit, times = get_model(['b', 'c', 'd', 'e', 'f'], orbPars, ['Mass', 'Ecc', 'Inc'])\n",
    "    transits = []\n",
    "    times = np.array(times)\n",
    "    \n",
    "    # Loop through each simulated orbit, so we compute the transits for each of the planets. \n",
    "    for orbit in p_orbit:\n",
    "        tPlanet = getTransits(orbit.x, orbit.y, times)\n",
    "        transits.append(np.array(tPlanet))\n",
    "        \n",
    "#     for j in range(exoPos.shape[1]):    \n",
    "#         tPlanet = getTransits(, , times[j]) # x, y, time\n",
    "#         transits.append(np.array(tPlanet))\n",
    "        \n",
    "    return np.array(transits, dtype=object)"
   ]
  },
  {
   "cell_type": "markdown",
   "id": "bf20dc3b",
   "metadata": {},
   "source": [
    "### 2. Correction to data before running the MCMC"
   ]
  },
  {
   "cell_type": "code",
   "execution_count": 13,
   "id": "650f42a4",
   "metadata": {},
   "outputs": [],
   "source": [
    "def padObs(t0, pred, err, period):\n",
    "    '''\n",
    "    Where we add zero values to where the difference is not the period, which is given by our predicted array.\n",
    "    '''\n",
    "    pDiff = pred[1:] - pred[:-1]\n",
    "    pGreater = pDiff - period >= 10**-4\n",
    "    numZeros = np.array(pDiff[pGreater]//period - 1, dtype=int)\n",
    "    \n",
    "    insertStartIdx = np.where(pGreater)[0] + 1\n",
    "    insertIdx = np.array([], dtype=int)\n",
    "    \n",
    "    # We need to 'pad' out the insertIdx array to reflect the number of values to insert.\n",
    "    for i, numZero in enumerate(numZeros):\n",
    "        insertIdx = np.append(insertIdx, np.tile(0, numZero) + insertStartIdx[i])\n",
    "    \n",
    "    t0Corr = np.copy(t0)\n",
    "    errCorr = np.copy(err)\n",
    "    errInsert = t0[insertIdx - 1] # Basically the transit value after which we insert zeros.\n",
    "    \n",
    "    # Insert the value at the desired positions but as the array shifts, we need to enumerate.\n",
    "    for i, idx in enumerate(np.array(insertIdx, dtype=int)):\n",
    "        t0Corr = np.insert(t0Corr, idx+i, 0)  # Insert 0 behind the original value\n",
    "        errCorr = np.insert(errCorr, idx+i, errInsert[i])  # Insert 0 behind the original value\n",
    "        \n",
    "    return t0Corr, errCorr"
   ]
  },
  {
   "cell_type": "code",
   "execution_count": 14,
   "id": "9a0a51a0",
   "metadata": {},
   "outputs": [],
   "source": [
    "# We correct our observational data in order to match it to the model values here.\n",
    "t0Corr, t0ErrCorr = [], []\n",
    "\n",
    "for i in range(len(System['Names'])):\n",
    "    \n",
    "    # Handling the padding situation. \n",
    "    padded, paddedErr = padObs(t0[i], pred[i], err[i], P[i])\n",
    "   \n",
    "    # Subtracting the initial offset that the model utilises to properly set up the system.\n",
    "    padded[padded != 0] -= minTran\n",
    "    t0Corr.append(padded)\n",
    "    t0ErrCorr.append(paddedErr)\n",
    "    \n",
    "t0Corr = np.array(t0Corr, dtype=object)\n",
    "t0ErrCorr = np.array(t0ErrCorr, dtype=object)\n",
    "\n",
    "# Thus, we can define our data as:\n",
    "data = (t0Corr, t0ErrCorr)"
   ]
  },
  {
   "cell_type": "markdown",
   "id": "12baa47c",
   "metadata": {},
   "source": [
    "### 3. Setting Priors to limit the parameter search\n",
    "\n",
    "This will limit the search for the good fit parameters and make sure the simulator does not input an invalid value (ex: ecc of -1)"
   ]
  },
  {
   "cell_type": "code",
   "execution_count": 15,
   "id": "0f3932ba",
   "metadata": {},
   "outputs": [],
   "source": [
    "# This is the upper bound for the eccentricity, so it becomes our prior.\n",
    "global eccUpperPrior, eccLowerPrior # We make it a global variable because we use it later for our MCMC\n",
    "eccUpperPrior = np.array([0.2, 0.05, 0.03, 0.02, 0.02])\n",
    "eccLowerPrior = np.array([0, 0, 0, 0, 0])\n",
    "\n",
    "# These are our upper and lower bounds for our masses, and we use them as our priors\n",
    "global mLowerPrior, mUpperPrior\n",
    "mLowerPrior, mUpperPrior = np.array([0.1, 0.1, 0.1, 6.6-1.0, 8.2-1.2]), np.array([20, 19, 8.2, 6.6+1.1, 8.2+1.6])"
   ]
  },
  {
   "cell_type": "markdown",
   "id": "f8dc85b8",
   "metadata": {},
   "source": [
    "### 4. MCMC Functions"
   ]
  },
  {
   "cell_type": "code",
   "execution_count": 76,
   "id": "9e548f1e",
   "metadata": {},
   "outputs": [],
   "source": [
    "def chi_fun(y, planetMod, yerr):   # do not change will break everything \n",
    "    return np.sum(((y - planetMod))**2/y)\n",
    "    \n",
    "\n",
    "def like(theta, y, yerr, old_chi):\n",
    "    '''\n",
    "    Input:\n",
    "    Output:\n",
    "    We organise our parameters and then plug them into our nBody simulation to get our simulated transits.\n",
    "    We have to account for a difference in length between the original data and the simulated data. \n",
    "    '''\n",
    "    ## To check\n",
    "    ymodel = systemTransits(theta)\n",
    "    y = y[0]\n",
    "    nModel = len(ymodel)\n",
    "    chiSq = np.zeros((nModel,))\n",
    "    \n",
    "    for i in range(nModel):\n",
    "        planetMod = ymodel[i]\n",
    "\n",
    "        if len(planetMod) > len(y[i]): # To match the lengths of the model versus the observed data. \n",
    "            planetMod = planetMod[:len(y[i])]\n",
    "\n",
    "        else: #f len(planetMod) < len(y[i]):\n",
    "            # This is an unlikely case and will hopefully not happen as we hold our period constant.\n",
    "            y[i] = y[i][:len(planetMod)]\n",
    "            yerr[i] = yerr[i][:len(planetMod)]\n",
    "                    \n",
    "        # MCMC has a step to do this \n",
    "        # Will we keep this step or will we not? This is what determines this. \n",
    "        chiSq[i] = chi_fun(y[i], planetMod, yerr[i])\n",
    "    \n",
    "    chiSq = np.sum(chiSq)\n",
    "    Like = np.exp(-0.5*(chiSq-old_chi))\n",
    "    \n",
    "    \n",
    "    #MOVE THIS**********************************************************************************************************\n",
    "    file = open('chi_param_chain.txt', 'a') # Updating txt file\n",
    "    file.write(str(chiSq)+'\\t'+str(theta)+'\\n')\n",
    "    file.close()\n",
    "    \n",
    "    return Like, chiSq\n",
    "\n",
    "# Setting up boundary conditions\n",
    "def prior(theta):\n",
    "    '''\n",
    "    Our priors decide whether or not our proposed values are valid. Our eccentricity values are less than our\n",
    "    initial values, therefore, our prior must always be less than these values. \n",
    "    '''\n",
    "    # Check conditions\n",
    "    massCon = np.any(np.logical_and(mLowerPrior > theta[0], mUpperPrior < theta[0]))\n",
    "    eccCon = np.any(np.logical_and(eccLowerPrior > theta[1], eccUpperPrior < theta[1]))\n",
    "    \n",
    "    # We want our true ananomaly to be between 0 and 2*pi because we want it to be within a circle. \n",
    "    fCon = np.any(np.logical_and(0 > theta[2], 2*np.pi < theta[2]))\n",
    "\n",
    "     # Give back a big value if we get unwanted parameters, to 'cancel' out the result\n",
    "    if massCon or eccCon or fCon:\n",
    "        return -np.inf \n",
    "    \n",
    "    return 0.0\n",
    "\n",
    "def prob(theta, y, yerr, old_chi, nExo=5):\n",
    "    '''\n",
    "    This calculates the probability of whether or not we take the step. This is done in several steps.\n",
    "    We unpack and reshape our parameters and then test where or not they pass the priors. If they do not,\n",
    "    then, the value is automatically discarded.\n",
    "    '''\n",
    "    ## TO CHECK\n",
    "    thetaUnpacked = np.array([np.array(theta[:,0]), np.array(theta[:,1]), np.array(theta[:,2])])\n",
    "    lp = prior(thetaUnpacked) # Checking if the priors have been satisfied. \n",
    "    \n",
    "    if not np.isfinite(lp):\n",
    "        return -np.inf\n",
    "    \n",
    "    likeliness, chi = like(theta, y, yerr, old_chi)\n",
    "    \n",
    "    return lp + likeliness, chi"
   ]
  },
  {
   "cell_type": "markdown",
   "id": "15154ebc",
   "metadata": {},
   "source": [
    "### 5. Running MCMC"
   ]
  },
  {
   "cell_type": "code",
   "execution_count": 77,
   "id": "264f52df",
   "metadata": {},
   "outputs": [],
   "source": [
    "def run_mcmc(pars, data, nsamp, dstep, err, change_dstep = False):\n",
    "    \n",
    "    npar = len(pars.flatten())\n",
    "    model = systemTransits(pars)\n",
    "    like0, chisq = like(pars, data, err, 0) # We dont actually care about the likelihood value here\n",
    "    \n",
    "    chain = []\n",
    "    chivec = []\n",
    "    count = 0\n",
    "    \n",
    "    while (count<1000):\n",
    "        if change_dstep == True:\n",
    "            for i in range(nsamp):\n",
    "                pnew = pars+np.random.randn(npar)*new_dstep\n",
    "                like_ratio, chi_new = prob(pars, data, err, chisq)\n",
    "\n",
    "                if like_ratio > np.random.rand(1)[0]:\n",
    "                    pars = pnew\n",
    "                    chisq = chi_new\n",
    "\n",
    "                chain.append(pars)\n",
    "                chivec.append(chisq)\n",
    "\n",
    "                change_dstep = False\n",
    "        else:\n",
    "\n",
    "            for i in range(nsamp):\n",
    "                pnew = pars+np.random.randn(5,3)*dstep\n",
    "                like_ratio, chi_new = prob(pars, data, err, chisq)\n",
    "\n",
    "                if like_ratio > np.random.rand(1)[0]:\n",
    "                    pars = pnew\n",
    "                    chisq = chi_new\n",
    "\n",
    "                chain.append(pars)\n",
    "                chivec.append(chisq)\n",
    "\n",
    "\n",
    "        # Setting a condition in case our chi square is not improving\n",
    "        if len(chivec) > 501:\n",
    "\n",
    "            if chivec[-1]-chivec[-501]<1e-4:\n",
    "                new_dstep = np.array([0]) ### WHAT SHOULD WE PUT\n",
    "                changed_dstep = True\n",
    "                count = 0\n",
    "        count+=1\n",
    "    print(\"done\")\n",
    "    return chain,chivec"
   ]
  },
  {
   "cell_type": "code",
   "execution_count": 78,
   "id": "12fc6e6f",
   "metadata": {
    "scrolled": true
   },
   "outputs": [],
   "source": [
    "#Resetting file, so each time we write, it is better. \n",
    "reset = open(\"chi_param_chain.txt\",'w')\n",
    "reset.close()\n",
    "\n",
    "#Adding title\n",
    "file =  open('chi_param_chain.txt', 'a')\n",
    "file.write('chi\\tparam\\n')\n",
    "file.close()\n",
    "\n",
    "# Mass, Eccentricity, Anomaly\n",
    "theta = np.array([[System['Mass'][0], System['Ecc'][0], System['Inc'][0]], \n",
    "                  [System['Mass'][1], System['Ecc'][1], System['Inc'][1]],\n",
    "                  [System['Mass'][2], System['Ecc'][2], System['Inc'][2]], \n",
    "                  [System['Mass'][3], System['Ecc'][3], System['Inc'][3]], \n",
    "                  [System['Mass'][4], System['Ecc'][4], System['Inc'][4]]])\n",
    "\n",
    "dstep = 0.0001\n",
    "theta = theta+0.01\n",
    "nsamp = len(data)\n"
   ]
  },
  {
   "cell_type": "code",
   "execution_count": 79,
   "id": "f4dfbbf1",
   "metadata": {
    "scrolled": true
   },
   "outputs": [
    {
     "ename": "KeyboardInterrupt",
     "evalue": "",
     "output_type": "error",
     "traceback": [
      "\u001b[1;31m---------------------------------------------------------------------------\u001b[0m",
      "\u001b[1;31mKeyboardInterrupt\u001b[0m                         Traceback (most recent call last)",
      "Input \u001b[1;32mIn [79]\u001b[0m, in \u001b[0;36m<cell line: 1>\u001b[1;34m()\u001b[0m\n\u001b[1;32m----> 1\u001b[0m chain, chivec \u001b[38;5;241m=\u001b[39m \u001b[43mrun_mcmc\u001b[49m\u001b[43m(\u001b[49m\u001b[43mtheta\u001b[49m\u001b[43m,\u001b[49m\u001b[43m \u001b[49m\u001b[43mdata\u001b[49m\u001b[43m,\u001b[49m\u001b[43m \u001b[49m\u001b[43mnsamp\u001b[49m\u001b[43m,\u001b[49m\u001b[43m \u001b[49m\u001b[43mdstep\u001b[49m\u001b[43m,\u001b[49m\u001b[43m \u001b[49m\u001b[43merr\u001b[49m\u001b[43m)\u001b[49m\n",
      "Input \u001b[1;32mIn [77]\u001b[0m, in \u001b[0;36mrun_mcmc\u001b[1;34m(pars, data, nsamp, dstep, err, change_dstep)\u001b[0m\n\u001b[0;32m     27\u001b[0m \u001b[38;5;28;01mfor\u001b[39;00m i \u001b[38;5;129;01min\u001b[39;00m \u001b[38;5;28mrange\u001b[39m(nsamp):\n\u001b[0;32m     28\u001b[0m     pnew \u001b[38;5;241m=\u001b[39m pars\u001b[38;5;241m+\u001b[39mnp\u001b[38;5;241m.\u001b[39mrandom\u001b[38;5;241m.\u001b[39mrandn(\u001b[38;5;241m5\u001b[39m,\u001b[38;5;241m3\u001b[39m)\u001b[38;5;241m*\u001b[39mdstep\n\u001b[1;32m---> 29\u001b[0m     like_ratio, chi_new \u001b[38;5;241m=\u001b[39m \u001b[43mprob\u001b[49m\u001b[43m(\u001b[49m\u001b[43mpars\u001b[49m\u001b[43m,\u001b[49m\u001b[43m \u001b[49m\u001b[43mdata\u001b[49m\u001b[43m,\u001b[49m\u001b[43m \u001b[49m\u001b[43merr\u001b[49m\u001b[43m,\u001b[49m\u001b[43m \u001b[49m\u001b[43mchisq\u001b[49m\u001b[43m)\u001b[49m\n\u001b[0;32m     31\u001b[0m     \u001b[38;5;28;01mif\u001b[39;00m like_ratio \u001b[38;5;241m>\u001b[39m np\u001b[38;5;241m.\u001b[39mrandom\u001b[38;5;241m.\u001b[39mrand(\u001b[38;5;241m1\u001b[39m)[\u001b[38;5;241m0\u001b[39m]:\n\u001b[0;32m     32\u001b[0m         pars \u001b[38;5;241m=\u001b[39m pnew\n",
      "Input \u001b[1;32mIn [76]\u001b[0m, in \u001b[0;36mprob\u001b[1;34m(theta, y, yerr, old_chi, nExo)\u001b[0m\n\u001b[0;32m     73\u001b[0m \u001b[38;5;28;01mif\u001b[39;00m \u001b[38;5;129;01mnot\u001b[39;00m np\u001b[38;5;241m.\u001b[39misfinite(lp):\n\u001b[0;32m     74\u001b[0m     \u001b[38;5;28;01mreturn\u001b[39;00m \u001b[38;5;241m-\u001b[39mnp\u001b[38;5;241m.\u001b[39minf\n\u001b[1;32m---> 76\u001b[0m likeliness, chi \u001b[38;5;241m=\u001b[39m \u001b[43mlike\u001b[49m\u001b[43m(\u001b[49m\u001b[43mtheta\u001b[49m\u001b[43m,\u001b[49m\u001b[43m \u001b[49m\u001b[43my\u001b[49m\u001b[43m,\u001b[49m\u001b[43m \u001b[49m\u001b[43myerr\u001b[49m\u001b[43m,\u001b[49m\u001b[43m \u001b[49m\u001b[43mold_chi\u001b[49m\u001b[43m)\u001b[49m\n\u001b[0;32m     78\u001b[0m \u001b[38;5;28;01mreturn\u001b[39;00m lp \u001b[38;5;241m+\u001b[39m likeliness, chi\n",
      "Input \u001b[1;32mIn [76]\u001b[0m, in \u001b[0;36mlike\u001b[1;34m(theta, y, yerr, old_chi)\u001b[0m\n\u001b[0;32m      6\u001b[0m \u001b[38;5;124;03m'''\u001b[39;00m\n\u001b[0;32m      7\u001b[0m \u001b[38;5;124;03mInput:\u001b[39;00m\n\u001b[0;32m      8\u001b[0m \u001b[38;5;124;03mOutput:\u001b[39;00m\n\u001b[0;32m      9\u001b[0m \u001b[38;5;124;03mWe organise our parameters and then plug them into our nBody simulation to get our simulated transits.\u001b[39;00m\n\u001b[0;32m     10\u001b[0m \u001b[38;5;124;03mWe have to account for a difference in length between the original data and the simulated data. \u001b[39;00m\n\u001b[0;32m     11\u001b[0m \u001b[38;5;124;03m'''\u001b[39;00m\n\u001b[0;32m     12\u001b[0m \u001b[38;5;66;03m## To check\u001b[39;00m\n\u001b[1;32m---> 13\u001b[0m ymodel \u001b[38;5;241m=\u001b[39m \u001b[43msystemTransits\u001b[49m\u001b[43m(\u001b[49m\u001b[43mtheta\u001b[49m\u001b[43m)\u001b[49m\n\u001b[0;32m     14\u001b[0m y \u001b[38;5;241m=\u001b[39m y[\u001b[38;5;241m0\u001b[39m]\n\u001b[0;32m     15\u001b[0m nModel \u001b[38;5;241m=\u001b[39m \u001b[38;5;28mlen\u001b[39m(ymodel)\n",
      "Input \u001b[1;32mIn [12]\u001b[0m, in \u001b[0;36msystemTransits\u001b[1;34m(orbPars)\u001b[0m\n\u001b[0;32m     48\u001b[0m \u001b[38;5;124;03m'''\u001b[39;00m\n\u001b[0;32m     49\u001b[0m \u001b[38;5;124;03mInput: Orbital parameters to be changed by MCMC (array of arrays) \u001b[39;00m\n\u001b[0;32m     50\u001b[0m \u001b[38;5;124;03mOutput: Array of arrays of transit times\u001b[39;00m\n\u001b[0;32m     51\u001b[0m \u001b[38;5;124;03m\u001b[39;00m\n\u001b[0;32m     52\u001b[0m \u001b[38;5;124;03mWe compute the simulation and get our transit times from this\u001b[39;00m\n\u001b[0;32m     53\u001b[0m \u001b[38;5;124;03m'''\u001b[39;00m\n\u001b[0;32m     54\u001b[0m \u001b[38;5;66;03m# What we identify in here is what will change in the function - NEED TO MODIFY ACCORDING TO WHAT CHANGES\u001b[39;00m\n\u001b[0;32m     55\u001b[0m \u001b[38;5;66;03m# orbPars = [[],[],[]] -> [b, c, d]\u001b[39;00m\n\u001b[1;32m---> 56\u001b[0m star_orbit, p_orbit, times \u001b[38;5;241m=\u001b[39m \u001b[43mget_model\u001b[49m\u001b[43m(\u001b[49m\u001b[43m[\u001b[49m\u001b[38;5;124;43m'\u001b[39;49m\u001b[38;5;124;43mb\u001b[39;49m\u001b[38;5;124;43m'\u001b[39;49m\u001b[43m,\u001b[49m\u001b[43m \u001b[49m\u001b[38;5;124;43m'\u001b[39;49m\u001b[38;5;124;43mc\u001b[39;49m\u001b[38;5;124;43m'\u001b[39;49m\u001b[43m,\u001b[49m\u001b[43m \u001b[49m\u001b[38;5;124;43m'\u001b[39;49m\u001b[38;5;124;43md\u001b[39;49m\u001b[38;5;124;43m'\u001b[39;49m\u001b[43m,\u001b[49m\u001b[43m \u001b[49m\u001b[38;5;124;43m'\u001b[39;49m\u001b[38;5;124;43me\u001b[39;49m\u001b[38;5;124;43m'\u001b[39;49m\u001b[43m,\u001b[49m\u001b[43m \u001b[49m\u001b[38;5;124;43m'\u001b[39;49m\u001b[38;5;124;43mf\u001b[39;49m\u001b[38;5;124;43m'\u001b[39;49m\u001b[43m]\u001b[49m\u001b[43m,\u001b[49m\u001b[43m \u001b[49m\u001b[43morbPars\u001b[49m\u001b[43m,\u001b[49m\u001b[43m \u001b[49m\u001b[43m[\u001b[49m\u001b[38;5;124;43m'\u001b[39;49m\u001b[38;5;124;43mMass\u001b[39;49m\u001b[38;5;124;43m'\u001b[39;49m\u001b[43m,\u001b[49m\u001b[43m \u001b[49m\u001b[38;5;124;43m'\u001b[39;49m\u001b[38;5;124;43mEcc\u001b[39;49m\u001b[38;5;124;43m'\u001b[39;49m\u001b[43m,\u001b[49m\u001b[43m \u001b[49m\u001b[38;5;124;43m'\u001b[39;49m\u001b[38;5;124;43mInc\u001b[39;49m\u001b[38;5;124;43m'\u001b[39;49m\u001b[43m]\u001b[49m\u001b[43m)\u001b[49m\n\u001b[0;32m     57\u001b[0m transits \u001b[38;5;241m=\u001b[39m []\n\u001b[0;32m     58\u001b[0m times \u001b[38;5;241m=\u001b[39m np\u001b[38;5;241m.\u001b[39marray(times)\n",
      "Input \u001b[1;32mIn [11]\u001b[0m, in \u001b[0;36mget_model\u001b[1;34m(planets, adjusted_pars, properties)\u001b[0m\n\u001b[0;32m     29\u001b[0m     \u001b[38;5;28;01mfor\u001b[39;00m i,prop \u001b[38;5;129;01min\u001b[39;00m \u001b[38;5;28menumerate\u001b[39m(properties):\n\u001b[0;32m     30\u001b[0m         (System[prop])[index] \u001b[38;5;241m=\u001b[39m adjusted_pars[p][i]                \n\u001b[1;32m---> 32\u001b[0m planet_positions, times \u001b[38;5;241m=\u001b[39m \u001b[43msolve_nBody\u001b[49m\u001b[43m(\u001b[49m\u001b[43mSystem\u001b[49m\u001b[43m)\u001b[49m\n\u001b[0;32m     34\u001b[0m star_orbit, orbits \u001b[38;5;241m=\u001b[39m get_orbits(planet_positions)\n\u001b[0;32m     35\u001b[0m \u001b[38;5;28;01mreturn\u001b[39;00m star_orbit, orbits, times\n",
      "Input \u001b[1;32mIn [9]\u001b[0m, in \u001b[0;36msolve_nBody\u001b[1;34m(orbE)\u001b[0m\n\u001b[0;32m     54\u001b[0m         exoPos[orbE[\u001b[38;5;124m'\u001b[39m\u001b[38;5;124mNames\u001b[39m\u001b[38;5;124m'\u001b[39m][i]]\u001b[38;5;241m.\u001b[39mappend([planet\u001b[38;5;241m.\u001b[39mx, planet\u001b[38;5;241m.\u001b[39my, planet\u001b[38;5;241m.\u001b[39mz])\n\u001b[0;32m     56\u001b[0m     \u001b[38;5;66;03m# Integrate forward by one step, the step size is adapted by the integrator\u001b[39;00m\n\u001b[1;32m---> 57\u001b[0m     \u001b[43mkep33\u001b[49m\u001b[38;5;241;43m.\u001b[39;49m\u001b[43mintegrate\u001b[49m\u001b[43m(\u001b[49m\u001b[43mkep33\u001b[49m\u001b[38;5;241;43m.\u001b[39;49m\u001b[43mt\u001b[49m\u001b[43m \u001b[49m\u001b[38;5;241;43m+\u001b[39;49m\u001b[43m \u001b[49m\u001b[38;5;241;43m1\u001b[39;49m\u001b[43m)\u001b[49m   \u001b[38;5;66;03m############################################################################# 0.1?? good or bad???\u001b[39;00m\n\u001b[0;32m     58\u001b[0m     \u001b[38;5;66;03m# to get multiple positions we integrate over 0.1 day but \u001b[39;00m\n\u001b[0;32m     59\u001b[0m     \u001b[38;5;66;03m# the integrator chooses an adaptive step size\u001b[39;00m\n\u001b[0;32m     61\u001b[0m \u001b[38;5;28;01mreturn\u001b[39;00m exoPos, times\n",
      "File \u001b[1;32m~\\anaconda3\\lib\\site-packages\\rebound\\simulation.py:1381\u001b[0m, in \u001b[0;36mSimulation.integrate\u001b[1;34m(self, tmax, exact_finish_time)\u001b[0m\n\u001b[0;32m   1354\u001b[0m \u001b[38;5;124;03m\"\"\"\u001b[39;00m\n\u001b[0;32m   1355\u001b[0m \u001b[38;5;124;03mMain integration function. Call this function when you have setup your simulation and want to integrate it forward (or backward) in time. The function might be called many times to integrate the simulation in steps and create outputs in-between steps.\u001b[39;00m\n\u001b[0;32m   1356\u001b[0m \u001b[38;5;124;03m\u001b[39;00m\n\u001b[1;32m   (...)\u001b[0m\n\u001b[0;32m   1378\u001b[0m \u001b[38;5;124;03m\u001b[39;00m\n\u001b[0;32m   1379\u001b[0m \u001b[38;5;124;03m\"\"\"\u001b[39;00m\n\u001b[0;32m   1380\u001b[0m \u001b[38;5;28mself\u001b[39m\u001b[38;5;241m.\u001b[39mexact_finish_time \u001b[38;5;241m=\u001b[39m c_int(exact_finish_time)\n\u001b[1;32m-> 1381\u001b[0m ret_value \u001b[38;5;241m=\u001b[39m \u001b[43mclibrebound\u001b[49m\u001b[38;5;241;43m.\u001b[39;49m\u001b[43mreb_simulation_integrate\u001b[49m\u001b[43m(\u001b[49m\u001b[43mbyref\u001b[49m\u001b[43m(\u001b[49m\u001b[38;5;28;43mself\u001b[39;49m\u001b[43m)\u001b[49m\u001b[43m,\u001b[49m\u001b[43m \u001b[49m\u001b[43mc_double\u001b[49m\u001b[43m(\u001b[49m\u001b[43mtmax\u001b[49m\u001b[43m)\u001b[49m\u001b[43m)\u001b[49m\n\u001b[0;32m   1382\u001b[0m \u001b[38;5;28;01mif\u001b[39;00m ret_value \u001b[38;5;241m==\u001b[39m \u001b[38;5;241m1\u001b[39m:\n\u001b[0;32m   1383\u001b[0m     \u001b[38;5;28mself\u001b[39m\u001b[38;5;241m.\u001b[39mprocess_messages()\n",
      "\u001b[1;31mKeyboardInterrupt\u001b[0m: "
     ]
    }
   ],
   "source": [
    "chain, chivec = run_mcmc(theta, data, nsamp, dstep, err)\n"
   ]
  },
  {
   "cell_type": "markdown",
   "id": "4541f6b2",
   "metadata": {},
   "source": [
    "### 6. Verifying Convergence"
   ]
  },
  {
   "cell_type": "code",
   "execution_count": 121,
   "id": "145c1e34",
   "metadata": {},
   "outputs": [],
   "source": [
    "with open('chi_param_chain.txt','r') as file:\n",
    "    lines =  file.readlines()\n",
    "lines = lines[1:]\n",
    "chi=[]\n",
    "\n",
    "for i,line in enumerate(lines):\n",
    "    if (i % 5) == 0:  # This will skip every 5th line (i.e., lines 5, 10, 15, etc.)\n",
    "        chi.append(float(line.split('\\t')[0]))"
   ]
  },
  {
   "cell_type": "code",
   "execution_count": 122,
   "id": "c6f75b51",
   "metadata": {},
   "outputs": [
    {
     "data": {
      "image/png": "[encoded data removed]",
      "text/plain": [
       "<Figure size 432x288 with 1 Axes>"
      ]
     },
     "metadata": {
      "needs_background": "light"
     },
     "output_type": "display_data"
    },
    {
     "data": {
      "image/png": "[encoded data removed]",
      "text/plain": [
       "<Figure size 432x288 with 1 Axes>"
      ]
     },
     "metadata": {
      "needs_background": "light"
     },
     "output_type": "display_data"
    }
   ],
   "source": [
    "#chi_data = np.genfromtxt('chi_param_chain.txt', delimiter='\\t', skip_header=1)\n",
    "#chi = chi_data[:,0]\n",
    "\n",
    "fft_chi = np.fft.rfft(chi)\n",
    "\n",
    "# Plotting the actual chi sqaure values stored in txt file\n",
    "plt.plot(chi)\n",
    "plt.xlabel('Number of runs')\n",
    "plt.ylabel('Chi Sqaured Value')\n",
    "plt.title('Chi Squared Variation')\n",
    "plt.show()\n",
    "\n",
    "# Plotting the chi square value in Fourrier Space to verify convergence\n",
    "plt.plot(np.abs(fft_chi))\n",
    "plt.xlabel('Frequency [Hz]')\n",
    "plt.ylabel('Fourier transform of chain')\n",
    "plt.title('Chi squared convergence')\n",
    "plt.xscale('log')\n",
    "plt.yscale('log')\n",
    "plt.show()"
   ]
  },
  {
   "cell_type": "code",
   "execution_count": null,
   "id": "3ee2e531",
   "metadata": {},
   "outputs": [],
   "source": []
  },
  {
   "cell_type": "code",
   "execution_count": null,
   "id": "1c62399d",
   "metadata": {},
   "outputs": [],
   "source": []
  },
  {
   "cell_type": "code",
   "execution_count": null,
   "id": "da889b3f",
   "metadata": {},
   "outputs": [],
   "source": []
  },
  {
   "cell_type": "code",
   "execution_count": null,
   "id": "f5bdadef",
   "metadata": {},
   "outputs": [],
   "source": []
  },
  {
   "cell_type": "code",
   "execution_count": null,
   "id": "c45289dd",
   "metadata": {},
   "outputs": [],
   "source": []
  },
  {
   "cell_type": "code",
   "execution_count": null,
   "id": "da3635cc",
   "metadata": {},
   "outputs": [],
   "source": []
  }
 ],
 "metadata": {
  "kernelspec": {
   "display_name": "Python 3 (ipykernel)",
   "language": "python",
   "name": "python3"
  },
  "language_info": {
   "codemirror_mode": {
    "name": "ipython",
    "version": 3
   },
   "file_extension": ".py",
   "mimetype": "text/x-python",
   "name": "python",
   "nbconvert_exporter": "python",
   "pygments_lexer": "ipython3",
   "version": "3.9.12"
  }
 },
 "nbformat": 4,
 "nbformat_minor": 5
}
