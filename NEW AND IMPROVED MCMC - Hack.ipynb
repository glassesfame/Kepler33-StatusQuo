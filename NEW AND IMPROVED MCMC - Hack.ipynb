{
 "cells": [
  {
   "cell_type": "code",
   "execution_count": 2,
   "id": "d66cd62f",
   "metadata": {},
   "outputs": [],
   "source": [
    "import emcee\n",
    "import os\n",
    "import rebound\n",
    "import numpy as np\n",
    "import astropy.constants as ast\n",
    "import matplotlib.pyplot as plt"
   ]
  },
  {
   "cell_type": "markdown",
   "id": "e52f8c08",
   "metadata": {},
   "source": [
    "https://prappleizer.github.io/Tutorials/MCMC/MCMC_Tutorial_Solution.html"
   ]
  },
  {
   "cell_type": "markdown",
   "id": "abaccbb2",
   "metadata": {},
   "source": [
    "### Data Import"
   ]
  },
  {
   "cell_type": "code",
   "execution_count": 3,
   "id": "415fd99d",
   "metadata": {},
   "outputs": [],
   "source": [
    "const ={\n",
    "    'G' :  6.67430e10-11, #SI\n",
    "    'R_b' : 0.0677, #AU\n",
    "    'R_c' : 0.1189 , #AU\n",
    "    'R_d' : 0.1662, #AU\n",
    "    'R_e' : 0.2138, #AU\n",
    "    'R_f' : 0.2535, #AU\n",
    "    'P_b' : 5.7, # days\n",
    "    'P_c' : 13.2, # days\n",
    "    'P_d' : 21.8, # days\n",
    "    'P_e' : 31.8, # days\n",
    "    'P_f' : 41,# days\n",
    "    'M_b' : 3.68, #Earth\n",
    "    'M_c' : 0.39, #Earth\n",
    "    'M_d': 3.91, #Earth\n",
    "    'M_e' : 5.57, #Earth\n",
    "    'M_f': 9.6, #Earth\n",
    "    'AU' : 1.496e11, #m\n",
    "    'M_star' : 1.29, # solar mass\n",
    "    'M_sun' : 1.988e30, # kg\n",
    "    'day_to_sec' : 86400,\n",
    "    'M_earth' : 5972e24, #kg\n",
    "    'M_earth_sun' : 3e-6 # solar masses\n",
    "}"
   ]
  },
  {
   "cell_type": "code",
   "execution_count": 4,
   "id": "692e9fc7",
   "metadata": {},
   "outputs": [],
   "source": [
    "data1 = np.genfromtxt('koi707_timing/koi0707.01.tt')\n",
    "data2 = np.genfromtxt('koi707_timing/koi0707.02.tt')\n",
    "data3 = np.genfromtxt('koi707_timing/koi0707.03.tt')\n",
    "data4 = np.genfromtxt('koi707_timing/koi0707.04.tt')\n",
    "data5 = np.genfromtxt('koi707_timing/koi0707.05.tt')\n",
    "\n",
    "data = [data1, data2, data3, data4, data5] # All data together\n",
    "x = np.zeros_like(data1[:,0]) # Setting up dummy variable for later\n",
    "\n",
    "y_array = [] \n",
    "y_err_array = []\n",
    "\n",
    "for i in range(len(data)):\n",
    "    \n",
    "    inter = data[i]\n",
    "    \n",
    "    y_array.append(inter[:,0]+inter[:,1]) # Adding the first 2 columns of data\n",
    "    y_err_array.append(inter[:,2]) # Creating uncertainty array\n",
    "\n",
    "    \n",
    "## Planet f (index 1) has the smallest initial time\n",
    "final_y = []\n",
    "for i in (y_array):\n",
    "    final_y.append(i - y_array[1][0]) # Resetting time to get c at s t=0 starting time"
   ]
  },
  {
   "cell_type": "code",
   "execution_count": 5,
   "id": "c39877f7",
   "metadata": {},
   "outputs": [],
   "source": [
    "def fCalc(b4T0, P, e):\n",
    "    '''\n",
    "    To approximate the starting positions. First, we find the mean ananomaly, taking T0 as periapsis.\n",
    "    Then, we approximate the eccentric ananomaly as the mean ananomaly as e is small. We then directly\n",
    "    derive our true ananomaly from our eccentric ananomaly, given as the alternate form from\n",
    "    https://en.wikipedia.org/wiki/True_anomaly\n",
    "    '''\n",
    "    M = (P - b4T0)/P # mean ananomaly approximately eccentric ananomaly when e is small.\n",
    "    # The calculation to derive the true \n",
    "    beta = e/(1+np.sqrt(1-e**2))\n",
    "    temp = beta*np.sin(M)/(1-beta*np.cos(M))\n",
    "    f = M + 2*np.arctan(temp)\n",
    "    return f\n",
    "\n",
    "    \n",
    "# Handling our data which are the parameters for the simulation. \n",
    "exoNames = ['b', 'c', 'd', 'e', 'f']\n",
    "df = pd.read_csv('kep33Data(Sheet1).csv', names=exoNames)\n",
    "\n",
    "# Getting the required data for inputting into the parameters.\n",
    "getData = lambda idx: np.array(df.iloc[idx], dtype=float)\n",
    "eArr = getData(1)\n",
    "fCol = fCalc(getData(4), getData(0), eArr) # true anomaly gives us our initial position but this must be calculated from our timings.\n"
   ]
  },
  {
   "cell_type": "markdown",
   "id": "d5e03dd2",
   "metadata": {},
   "source": [
    "### Orbit functions"
   ]
  },
  {
   "cell_type": "code",
   "execution_count": 6,
   "id": "cdf7d86b",
   "metadata": {},
   "outputs": [],
   "source": [
    "def transit(x, y, dt):\n",
    "    ' Define the transit to be at y=0 in the axis on the right (x positive) '\n",
    "    t_transit = []\n",
    "    \n",
    "    if len(np.where(y == 0)[0]) != 0: # Verifying if there is a y = 0 solution\n",
    "        for i in range(len(y)):\n",
    "            if np.abs(x[i]) == x[i]:  # Verifying if x is positive\n",
    "                # Adding time by taking the index (number of iterations) * change in t\n",
    "                t_transit.append(dt*i)\n",
    "    else:\n",
    "        index = np.where(np.diff(np.sign(y)))[0] # Getting array where y value changes sign\n",
    "        for i in index:\n",
    "            if np.abs(x[i]) == x[i]: # Verifying if x is positive\n",
    "                #Taking proportion to interpolate time value at y=0\n",
    "                diff = np.abs(y[i]-y[i+1])\n",
    "                prop = np.abs(y[i])/diff\n",
    "                new_dt = prop*dt\n",
    "                t = dt*(i)+new_dt #Time at index and additional time\n",
    "                t_transit.append(t)\n",
    "                \n",
    "    return t_transit"
   ]
  },
  {
   "cell_type": "code",
   "execution_count": 7,
   "id": "511d87fb",
   "metadata": {},
   "outputs": [],
   "source": [
    "def orbit_setup(params):\n",
    "    mass_earth = 3e-6 # Mass earth in solar masses\n",
    "    \n",
    "    kep33 = rebound.Simulation() # This sets up our system\n",
    "    # kep33.integrator = 'whfast'\n",
    "    # Our star is at the centre of the system with no velocity etc, so no orbital elements for it except mass.\n",
    "    kep33.add(m=1.29) \n",
    "    # Populating the simulation with our planets right now. \n",
    "    for i, colName in enumerate(exoNames):\n",
    "        if i == 4:\n",
    "            kep33.add(m=params[0], P=getData(0)[i], e=params[2], f=params[1], inc=np.pi/2)\n",
    "        else:\n",
    "            kep33.add(m=(getData(3)* (ast.M_earth.value/ast.M_sun.value))[i], P=getData(0)[i], e=getData(1)[i], inc=np.pi/2, f=fCol[i])\n",
    "\n",
    "    kep33.move_to_com() # Moving our system to the centre of mass frame, which should be in the star\n",
    "            \n",
    "\n",
    "    times = np.arange(0, 365, 0.01) # Randomly spaced observations for a year\n",
    "    dt = np.mean(np.gradient(times)) # Time step\n",
    "    N = len(times) # Number of iterations\n",
    "    # Set up 0 arrays to update with x and y values\n",
    "    p1,p2,p3,p4,p5 = np.zeros((N,2)), np.zeros((N,2)),np.zeros((N,2)),np.zeros((N,2)),np.zeros((N,2))\n",
    "\n",
    "    for i, t in enumerate(times):\n",
    "        kep33.integrate(times[i]) # Integrator\n",
    "        # Uodating x and y values for each planet\n",
    "        p1[i] = np.array([kep33.particles[1].x, kep33.particles[1].y])\n",
    "        p2[i] = np.array([kep33.particles[2].x, kep33.particles[2].y])\n",
    "        p3[i] = np.array([kep33.particles[3].x, kep33.particles[3].y])\n",
    "        p4[i] = np.array([kep33.particles[4].x, kep33.particles[4].y])\n",
    "        p5[i] = np.array([kep33.particles[5].x, kep33.particles[5].y])\n",
    "        \n",
    "#     Finding transits with our planet\n",
    "#     t_transit_2 = transit(p2[:, 0], p2[:, 1], dt)\n",
    "#     t_transit_1 = transit(p1[:, 0], p1[:, 1], dt)\n",
    "#     t_transit_3 = transit(p3[:, 0], p3[:, 1], dt)\n",
    "#     t_transit_4 = transit(p4[:, 0], p4[:, 1], dt)\n",
    "    t_transit_5 = transit(p5[:, 0], p5[:, 1], dt)\n",
    "    \n",
    "    \n",
    "    return t_transit_5 #np.array[t_transit_1, t_transit_2, t_transit_3, t_transit_4, t_transit_5]"
   ]
  },
  {
   "cell_type": "markdown",
   "id": "d103a1ea",
   "metadata": {},
   "source": [
    "### MCMC Functions"
   ]
  },
  {
   "cell_type": "code",
   "execution_count": 8,
   "id": "3d240a25",
   "metadata": {},
   "outputs": [],
   "source": [
    "def model(theta, x=x):\n",
    "    # Parameters\n",
    "    M, f, e = theta\n",
    "    params = np.array([M, f, e])\n",
    "    model = orbit_setup(params) # Getting our model transit time\n",
    "    return model\n",
    "\n",
    "def lnlike(theta, x, y, yerr):\n",
    "    ymodel = model(theta)\n",
    "    \n",
    "    # Getting the same number of transits \n",
    "    # Maybe append zeros intead??? -------------------------\n",
    "    if len(ymodel)>len(y):\n",
    "        ymodel = ymodel[0:len(y)]\n",
    "        \n",
    "    elif len(ymodel)<len(y):\n",
    "        y = y[0:len(ymodel)]\n",
    "        yerr = yerr[0:len(ymodel)]\n",
    "\n",
    "    # Getting proportionality value\n",
    "    LnLike = -0.5*np.sum(((y - ymodel)/yerr)**2)\n",
    "    # Getting chi square value\n",
    "    chi = np.sum(((y - ymodel)**2)/ymodel)\n",
    "    \n",
    "    # Updating txt file\n",
    "    file = open('chi_param_chain.txt', 'a')\n",
    "    file.write(str(chi)+'\\t'+str(theta)+'\\n')\n",
    "    file.close()\n",
    "    \n",
    "    return LnLike\n",
    "\n",
    "# Setting up boundary conditions\n",
    "def lnprior(theta):\n",
    "    M, f, e = theta\n",
    "    if 0.0 <= e < 5.0 and 0.0 < f < 2*np.pi and 0.0 < M < 11.9823029702415237e-05 :\n",
    "        return 0.0\n",
    "    return -np.inf\n",
    "\n",
    "def lnprob(theta, x, y, yerr):\n",
    "    # Calculating probability\n",
    "    lp = lnprior(theta)\n",
    "    if not np.isfinite(lp):\n",
    "        return -np.inf\n",
    "    return lp + lnlike(theta, x, y, yerr)\n"
   ]
  },
  {
   "cell_type": "code",
   "execution_count": 9,
   "id": "f32d5ba6",
   "metadata": {},
   "outputs": [],
   "source": [
    "#Resetting file\n",
    "reset = open(\"chi_param_chain.txt\",'w')\n",
    "reset.close()\n",
    "\n",
    "\n",
    "# Adding title\n",
    "file =  open('chi_param_chain.txt', 'a')\n",
    "file.write('chi\\tparam\\n')\n",
    "file.close()\n",
    "\n",
    "# Initial params\n",
    "M = (getData(3)* (ast.M_earth.value/ast.M_sun.value))[4]+0.5e-6\n",
    "f = fCol[4]+0.009\n",
    "e = getData(1)[3]+0.01\n",
    "\n",
    "p_initial = np.array([M, f, e])\n",
    "ndim = len(p_initial)\n",
    "nwalkers = 13\n",
    "niter = 300\n",
    "data = (x, final_y[1][1:], y_err_array[1][1:])\n",
    "p0 = [np.array(p_initial) + 1e-4 * np.random.randn(ndim) for i in range(nwalkers)]\n"
   ]
  },
  {
   "cell_type": "code",
   "execution_count": 10,
   "id": "8923a8f0",
   "metadata": {},
   "outputs": [],
   "source": [
    "def main(p0, nwalkers, niter, ndim, lnprob, data):\n",
    "    sampler = emcee.EnsembleSampler(nwalkers, ndim, lnprob, args=data)\n",
    "\n",
    "    print(\"Running burn-in...\")\n",
    "    p0, _, _ = sampler.run_mcmc(p0, 100)\n",
    "    sampler.reset()\n",
    "\n",
    "    print(\"Running production...\")\n",
    "    pos, prob, state = sampler.run_mcmc(p0, niter)\n",
    "\n",
    "    return sampler, pos, prob, state"
   ]
  },
  {
   "cell_type": "code",
   "execution_count": 11,
   "id": "a8d4d1e0",
   "metadata": {},
   "outputs": [
    {
     "name": "stdout",
     "output_type": "stream",
     "text": [
      "Running burn-in...\n"
     ]
    },
    {
     "name": "stderr",
     "output_type": "stream",
     "text": [
      "/Users/carolinedeland/opt/anaconda3/lib/python3.9/site-packages/emcee/moves/red_blue.py:99: RuntimeWarning: invalid value encountered in scalar subtract\n",
      "  lnpdiff = f + nlp - state.log_prob[j]\n"
     ]
    },
    {
     "name": "stdout",
     "output_type": "stream",
     "text": [
      "emcee: Exception while calling your likelihood function:\n",
      "  params: [5.13970805e-05 1.02589703e+00 2.99953138e-02]\n",
      "  args: (array([0., 0., 0., 0., 0., 0., 0., 0., 0., 0., 0., 0., 0., 0., 0., 0., 0.,\n",
      "       0., 0., 0., 0., 0., 0., 0., 0., 0., 0., 0., 0., 0., 0., 0., 0., 0.,\n",
      "       0., 0., 0., 0., 0., 0., 0., 0., 0., 0., 0., 0., 0., 0., 0., 0., 0.,\n",
      "       0., 0., 0., 0., 0., 0., 0., 0., 0., 0., 0., 0.]), array([  41.01753407,   82.04866269,  123.06386927,  164.11944179,\n",
      "        205.13622899,  246.181123  ,  287.21967469,  328.20718133,\n",
      "        369.22058778,  410.26940148,  451.2910436 ,  492.33067832,\n",
      "        533.3750309 ,  574.4017803 ,  615.43764744,  656.45320255,\n",
      "        697.47944088,  738.48035785,  779.52518137,  820.53967724,\n",
      "        861.5884579 ,  902.61410124,  943.65661924,  984.69791936,\n",
      "       1025.67544483, 1066.71904722, 1107.74692616, 1148.76802894,\n",
      "       1189.80926344, 1230.839174  , 1271.87325349, 1312.87611591,\n",
      "       1394.93993042, 1435.95051773]), array([0.00843666, 0.00797238, 0.00866054, 0.00810064, 0.0076206 ,\n",
      "       0.00822111, 0.00833553, 0.00713617, 0.00650366, 0.0077792 ,\n",
      "       0.00940883, 0.00904736, 0.00877381, 0.0069561 , 0.00974132,\n",
      "       0.00836395, 0.00661353, 0.00656477, 0.00823095, 0.01019237,\n",
      "       0.00881783, 0.00647574, 0.00713706, 0.00879707, 0.00938165,\n",
      "       0.00923217, 0.00909433, 0.0080259 , 0.00744943, 0.00886448,\n",
      "       0.00796872, 0.00887177, 0.00941949, 0.00743774]))\n",
      "  kwargs: {}\n",
      "  exception:\n"
     ]
    },
    {
     "name": "stderr",
     "output_type": "stream",
     "text": [
      "Traceback (most recent call last):\n",
      "  File \"/Users/carolinedeland/opt/anaconda3/lib/python3.9/site-packages/emcee/ensemble.py\", line 640, in __call__\n",
      "    return self.f(x, *self.args, **self.kwargs)\n",
      "  File \"/var/folders/ff/_r7359n921zcpcgllv4znt_40000gn/T/ipykernel_21441/2639447612.py\", line 43, in lnprob\n",
      "    return lp + lnlike(theta, x, y, yerr)\n",
      "  File \"/var/folders/ff/_r7359n921zcpcgllv4znt_40000gn/T/ipykernel_21441/2639447612.py\", line 9, in lnlike\n",
      "    ymodel = model(theta)\n",
      "  File \"/var/folders/ff/_r7359n921zcpcgllv4znt_40000gn/T/ipykernel_21441/2639447612.py\", line 5, in model\n",
      "    model = orbit_setup(params) # Getting our model transit time\n",
      "  File \"/var/folders/ff/_r7359n921zcpcgllv4znt_40000gn/T/ipykernel_21441/1813847153.py\", line 25, in orbit_setup\n",
      "    kep33.integrate(times[i]) # Integrator\n",
      "  File \"/Users/carolinedeland/opt/anaconda3/lib/python3.9/site-packages/rebound/simulation.py\", line 1397, in integrate\n",
      "    raise KeyboardInterrupt\n",
      "KeyboardInterrupt\n"
     ]
    },
    {
     "ename": "KeyboardInterrupt",
     "evalue": "",
     "output_type": "error",
     "traceback": [
      "\u001b[0;31m---------------------------------------------------------------------------\u001b[0m",
      "\u001b[0;31mKeyboardInterrupt\u001b[0m                         Traceback (most recent call last)",
      "Input \u001b[0;32mIn [11]\u001b[0m, in \u001b[0;36m<cell line: 1>\u001b[0;34m()\u001b[0m\n\u001b[0;32m----> 1\u001b[0m sampler, pos, prob, state \u001b[38;5;241m=\u001b[39m \u001b[43mmain\u001b[49m\u001b[43m(\u001b[49m\u001b[43mp0\u001b[49m\u001b[43m,\u001b[49m\u001b[43m \u001b[49m\u001b[43mnwalkers\u001b[49m\u001b[43m,\u001b[49m\u001b[43m \u001b[49m\u001b[43mniter\u001b[49m\u001b[43m,\u001b[49m\u001b[43m \u001b[49m\u001b[43mndim\u001b[49m\u001b[43m,\u001b[49m\u001b[43m \u001b[49m\u001b[43mlnprob\u001b[49m\u001b[43m,\u001b[49m\u001b[43m \u001b[49m\u001b[43mdata\u001b[49m\u001b[43m)\u001b[49m\n",
      "Input \u001b[0;32mIn [10]\u001b[0m, in \u001b[0;36mmain\u001b[0;34m(p0, nwalkers, niter, ndim, lnprob, data)\u001b[0m\n\u001b[1;32m      2\u001b[0m sampler \u001b[38;5;241m=\u001b[39m emcee\u001b[38;5;241m.\u001b[39mEnsembleSampler(nwalkers, ndim, lnprob, args\u001b[38;5;241m=\u001b[39mdata)\n\u001b[1;32m      4\u001b[0m \u001b[38;5;28mprint\u001b[39m(\u001b[38;5;124m\"\u001b[39m\u001b[38;5;124mRunning burn-in...\u001b[39m\u001b[38;5;124m\"\u001b[39m)\n\u001b[0;32m----> 5\u001b[0m p0, _, _ \u001b[38;5;241m=\u001b[39m \u001b[43msampler\u001b[49m\u001b[38;5;241;43m.\u001b[39;49m\u001b[43mrun_mcmc\u001b[49m\u001b[43m(\u001b[49m\u001b[43mp0\u001b[49m\u001b[43m,\u001b[49m\u001b[43m \u001b[49m\u001b[38;5;241;43m100\u001b[39;49m\u001b[43m)\u001b[49m\n\u001b[1;32m      6\u001b[0m sampler\u001b[38;5;241m.\u001b[39mreset()\n\u001b[1;32m      8\u001b[0m \u001b[38;5;28mprint\u001b[39m(\u001b[38;5;124m\"\u001b[39m\u001b[38;5;124mRunning production...\u001b[39m\u001b[38;5;124m\"\u001b[39m)\n",
      "File \u001b[0;32m~/opt/anaconda3/lib/python3.9/site-packages/emcee/ensemble.py:450\u001b[0m, in \u001b[0;36mEnsembleSampler.run_mcmc\u001b[0;34m(self, initial_state, nsteps, **kwargs)\u001b[0m\n\u001b[1;32m    447\u001b[0m     initial_state \u001b[38;5;241m=\u001b[39m \u001b[38;5;28mself\u001b[39m\u001b[38;5;241m.\u001b[39m_previous_state\n\u001b[1;32m    449\u001b[0m results \u001b[38;5;241m=\u001b[39m \u001b[38;5;28;01mNone\u001b[39;00m\n\u001b[0;32m--> 450\u001b[0m \u001b[38;5;28;01mfor\u001b[39;00m results \u001b[38;5;129;01min\u001b[39;00m \u001b[38;5;28mself\u001b[39m\u001b[38;5;241m.\u001b[39msample(initial_state, iterations\u001b[38;5;241m=\u001b[39mnsteps, \u001b[38;5;241m*\u001b[39m\u001b[38;5;241m*\u001b[39mkwargs):\n\u001b[1;32m    451\u001b[0m     \u001b[38;5;28;01mpass\u001b[39;00m\n\u001b[1;32m    453\u001b[0m \u001b[38;5;66;03m# Store so that the ``initial_state=None`` case will work\u001b[39;00m\n",
      "File \u001b[0;32m~/opt/anaconda3/lib/python3.9/site-packages/emcee/ensemble.py:409\u001b[0m, in \u001b[0;36mEnsembleSampler.sample\u001b[0;34m(self, initial_state, log_prob0, rstate0, blobs0, iterations, tune, skip_initial_state_check, thin_by, thin, store, progress, progress_kwargs)\u001b[0m\n\u001b[1;32m    406\u001b[0m move \u001b[38;5;241m=\u001b[39m \u001b[38;5;28mself\u001b[39m\u001b[38;5;241m.\u001b[39m_random\u001b[38;5;241m.\u001b[39mchoice(\u001b[38;5;28mself\u001b[39m\u001b[38;5;241m.\u001b[39m_moves, p\u001b[38;5;241m=\u001b[39m\u001b[38;5;28mself\u001b[39m\u001b[38;5;241m.\u001b[39m_weights)\n\u001b[1;32m    408\u001b[0m \u001b[38;5;66;03m# Propose\u001b[39;00m\n\u001b[0;32m--> 409\u001b[0m state, accepted \u001b[38;5;241m=\u001b[39m \u001b[43mmove\u001b[49m\u001b[38;5;241;43m.\u001b[39;49m\u001b[43mpropose\u001b[49m\u001b[43m(\u001b[49m\u001b[43mmodel\u001b[49m\u001b[43m,\u001b[49m\u001b[43m \u001b[49m\u001b[43mstate\u001b[49m\u001b[43m)\u001b[49m\n\u001b[1;32m    410\u001b[0m state\u001b[38;5;241m.\u001b[39mrandom_state \u001b[38;5;241m=\u001b[39m \u001b[38;5;28mself\u001b[39m\u001b[38;5;241m.\u001b[39mrandom_state\n\u001b[1;32m    412\u001b[0m \u001b[38;5;28;01mif\u001b[39;00m tune:\n",
      "File \u001b[0;32m~/opt/anaconda3/lib/python3.9/site-packages/emcee/moves/red_blue.py:93\u001b[0m, in \u001b[0;36mRedBlueMove.propose\u001b[0;34m(self, model, state)\u001b[0m\n\u001b[1;32m     90\u001b[0m q, factors \u001b[38;5;241m=\u001b[39m \u001b[38;5;28mself\u001b[39m\u001b[38;5;241m.\u001b[39mget_proposal(s, c, model\u001b[38;5;241m.\u001b[39mrandom)\n\u001b[1;32m     92\u001b[0m \u001b[38;5;66;03m# Compute the lnprobs of the proposed position.\u001b[39;00m\n\u001b[0;32m---> 93\u001b[0m new_log_probs, new_blobs \u001b[38;5;241m=\u001b[39m \u001b[43mmodel\u001b[49m\u001b[38;5;241;43m.\u001b[39;49m\u001b[43mcompute_log_prob_fn\u001b[49m\u001b[43m(\u001b[49m\u001b[43mq\u001b[49m\u001b[43m)\u001b[49m\n\u001b[1;32m     95\u001b[0m \u001b[38;5;66;03m# Loop over the walkers and update them accordingly.\u001b[39;00m\n\u001b[1;32m     96\u001b[0m \u001b[38;5;28;01mfor\u001b[39;00m i, (j, f, nlp) \u001b[38;5;129;01min\u001b[39;00m \u001b[38;5;28menumerate\u001b[39m(\n\u001b[1;32m     97\u001b[0m     \u001b[38;5;28mzip\u001b[39m(all_inds[S1], factors, new_log_probs)\n\u001b[1;32m     98\u001b[0m ):\n",
      "File \u001b[0;32m~/opt/anaconda3/lib/python3.9/site-packages/emcee/ensemble.py:496\u001b[0m, in \u001b[0;36mEnsembleSampler.compute_log_prob\u001b[0;34m(self, coords)\u001b[0m\n\u001b[1;32m    494\u001b[0m     \u001b[38;5;28;01melse\u001b[39;00m:\n\u001b[1;32m    495\u001b[0m         map_func \u001b[38;5;241m=\u001b[39m \u001b[38;5;28mmap\u001b[39m\n\u001b[0;32m--> 496\u001b[0m     results \u001b[38;5;241m=\u001b[39m \u001b[38;5;28;43mlist\u001b[39;49m\u001b[43m(\u001b[49m\u001b[43mmap_func\u001b[49m\u001b[43m(\u001b[49m\u001b[38;5;28;43mself\u001b[39;49m\u001b[38;5;241;43m.\u001b[39;49m\u001b[43mlog_prob_fn\u001b[49m\u001b[43m,\u001b[49m\u001b[43m \u001b[49m\u001b[43mp\u001b[49m\u001b[43m)\u001b[49m\u001b[43m)\u001b[49m\n\u001b[1;32m    498\u001b[0m \u001b[38;5;28;01mtry\u001b[39;00m:\n\u001b[1;32m    499\u001b[0m     \u001b[38;5;66;03m# perhaps log_prob_fn returns blobs?\u001b[39;00m\n\u001b[1;32m    500\u001b[0m \n\u001b[0;32m   (...)\u001b[0m\n\u001b[1;32m    504\u001b[0m     \u001b[38;5;66;03m# l is a length-1 array, np.array([1.234]). In that case blob\u001b[39;00m\n\u001b[1;32m    505\u001b[0m     \u001b[38;5;66;03m# will become an empty list.\u001b[39;00m\n\u001b[1;32m    506\u001b[0m     blob \u001b[38;5;241m=\u001b[39m [l[\u001b[38;5;241m1\u001b[39m:] \u001b[38;5;28;01mfor\u001b[39;00m l \u001b[38;5;129;01min\u001b[39;00m results \u001b[38;5;28;01mif\u001b[39;00m \u001b[38;5;28mlen\u001b[39m(l) \u001b[38;5;241m>\u001b[39m \u001b[38;5;241m1\u001b[39m]\n",
      "File \u001b[0;32m~/opt/anaconda3/lib/python3.9/site-packages/emcee/ensemble.py:640\u001b[0m, in \u001b[0;36m_FunctionWrapper.__call__\u001b[0;34m(self, x)\u001b[0m\n\u001b[1;32m    638\u001b[0m \u001b[38;5;28;01mdef\u001b[39;00m \u001b[38;5;21m__call__\u001b[39m(\u001b[38;5;28mself\u001b[39m, x):\n\u001b[1;32m    639\u001b[0m     \u001b[38;5;28;01mtry\u001b[39;00m:\n\u001b[0;32m--> 640\u001b[0m         \u001b[38;5;28;01mreturn\u001b[39;00m \u001b[38;5;28;43mself\u001b[39;49m\u001b[38;5;241;43m.\u001b[39;49m\u001b[43mf\u001b[49m\u001b[43m(\u001b[49m\u001b[43mx\u001b[49m\u001b[43m,\u001b[49m\u001b[43m \u001b[49m\u001b[38;5;241;43m*\u001b[39;49m\u001b[38;5;28;43mself\u001b[39;49m\u001b[38;5;241;43m.\u001b[39;49m\u001b[43margs\u001b[49m\u001b[43m,\u001b[49m\u001b[43m \u001b[49m\u001b[38;5;241;43m*\u001b[39;49m\u001b[38;5;241;43m*\u001b[39;49m\u001b[38;5;28;43mself\u001b[39;49m\u001b[38;5;241;43m.\u001b[39;49m\u001b[43mkwargs\u001b[49m\u001b[43m)\u001b[49m\n\u001b[1;32m    641\u001b[0m     \u001b[38;5;28;01mexcept\u001b[39;00m:  \u001b[38;5;66;03m# pragma: no cover\u001b[39;00m\n\u001b[1;32m    642\u001b[0m         \u001b[38;5;28;01mimport\u001b[39;00m \u001b[38;5;21;01mtraceback\u001b[39;00m\n",
      "Input \u001b[0;32mIn [8]\u001b[0m, in \u001b[0;36mlnprob\u001b[0;34m(theta, x, y, yerr)\u001b[0m\n\u001b[1;32m     41\u001b[0m \u001b[38;5;28;01mif\u001b[39;00m \u001b[38;5;129;01mnot\u001b[39;00m np\u001b[38;5;241m.\u001b[39misfinite(lp):\n\u001b[1;32m     42\u001b[0m     \u001b[38;5;28;01mreturn\u001b[39;00m \u001b[38;5;241m-\u001b[39mnp\u001b[38;5;241m.\u001b[39minf\n\u001b[0;32m---> 43\u001b[0m \u001b[38;5;28;01mreturn\u001b[39;00m lp \u001b[38;5;241m+\u001b[39m \u001b[43mlnlike\u001b[49m\u001b[43m(\u001b[49m\u001b[43mtheta\u001b[49m\u001b[43m,\u001b[49m\u001b[43m \u001b[49m\u001b[43mx\u001b[49m\u001b[43m,\u001b[49m\u001b[43m \u001b[49m\u001b[43my\u001b[49m\u001b[43m,\u001b[49m\u001b[43m \u001b[49m\u001b[43myerr\u001b[49m\u001b[43m)\u001b[49m\n",
      "Input \u001b[0;32mIn [8]\u001b[0m, in \u001b[0;36mlnlike\u001b[0;34m(theta, x, y, yerr)\u001b[0m\n\u001b[1;32m      8\u001b[0m \u001b[38;5;28;01mdef\u001b[39;00m \u001b[38;5;21mlnlike\u001b[39m(theta, x, y, yerr):\n\u001b[0;32m----> 9\u001b[0m     ymodel \u001b[38;5;241m=\u001b[39m \u001b[43mmodel\u001b[49m\u001b[43m(\u001b[49m\u001b[43mtheta\u001b[49m\u001b[43m)\u001b[49m\n\u001b[1;32m     11\u001b[0m     \u001b[38;5;66;03m# Getting the same number of transits \u001b[39;00m\n\u001b[1;32m     12\u001b[0m     \u001b[38;5;66;03m# Maybe append zeros intead??? -------------------------\u001b[39;00m\n\u001b[1;32m     13\u001b[0m     \u001b[38;5;28;01mif\u001b[39;00m \u001b[38;5;28mlen\u001b[39m(ymodel)\u001b[38;5;241m>\u001b[39m\u001b[38;5;28mlen\u001b[39m(y):\n",
      "Input \u001b[0;32mIn [8]\u001b[0m, in \u001b[0;36mmodel\u001b[0;34m(theta, x)\u001b[0m\n\u001b[1;32m      3\u001b[0m M, f, e \u001b[38;5;241m=\u001b[39m theta\n\u001b[1;32m      4\u001b[0m params \u001b[38;5;241m=\u001b[39m np\u001b[38;5;241m.\u001b[39marray([M, f, e])\n\u001b[0;32m----> 5\u001b[0m model \u001b[38;5;241m=\u001b[39m \u001b[43morbit_setup\u001b[49m\u001b[43m(\u001b[49m\u001b[43mparams\u001b[49m\u001b[43m)\u001b[49m \u001b[38;5;66;03m# Getting our model transit time\u001b[39;00m\n\u001b[1;32m      6\u001b[0m \u001b[38;5;28;01mreturn\u001b[39;00m model\n",
      "Input \u001b[0;32mIn [7]\u001b[0m, in \u001b[0;36morbit_setup\u001b[0;34m(params)\u001b[0m\n\u001b[1;32m     22\u001b[0m p1,p2,p3,p4,p5 \u001b[38;5;241m=\u001b[39m np\u001b[38;5;241m.\u001b[39mzeros((N,\u001b[38;5;241m2\u001b[39m)), np\u001b[38;5;241m.\u001b[39mzeros((N,\u001b[38;5;241m2\u001b[39m)),np\u001b[38;5;241m.\u001b[39mzeros((N,\u001b[38;5;241m2\u001b[39m)),np\u001b[38;5;241m.\u001b[39mzeros((N,\u001b[38;5;241m2\u001b[39m)),np\u001b[38;5;241m.\u001b[39mzeros((N,\u001b[38;5;241m2\u001b[39m))\n\u001b[1;32m     24\u001b[0m \u001b[38;5;28;01mfor\u001b[39;00m i, t \u001b[38;5;129;01min\u001b[39;00m \u001b[38;5;28menumerate\u001b[39m(times):\n\u001b[0;32m---> 25\u001b[0m     \u001b[43mkep33\u001b[49m\u001b[38;5;241;43m.\u001b[39;49m\u001b[43mintegrate\u001b[49m\u001b[43m(\u001b[49m\u001b[43mtimes\u001b[49m\u001b[43m[\u001b[49m\u001b[43mi\u001b[49m\u001b[43m]\u001b[49m\u001b[43m)\u001b[49m \u001b[38;5;66;03m# Integrator\u001b[39;00m\n\u001b[1;32m     26\u001b[0m     \u001b[38;5;66;03m# Uodating x and y values for each planet\u001b[39;00m\n\u001b[1;32m     27\u001b[0m     p1[i] \u001b[38;5;241m=\u001b[39m np\u001b[38;5;241m.\u001b[39marray([kep33\u001b[38;5;241m.\u001b[39mparticles[\u001b[38;5;241m1\u001b[39m]\u001b[38;5;241m.\u001b[39mx, kep33\u001b[38;5;241m.\u001b[39mparticles[\u001b[38;5;241m1\u001b[39m]\u001b[38;5;241m.\u001b[39my])\n",
      "File \u001b[0;32m~/opt/anaconda3/lib/python3.9/site-packages/rebound/simulation.py:1397\u001b[0m, in \u001b[0;36mSimulation.integrate\u001b[0;34m(self, tmax, exact_finish_time)\u001b[0m\n\u001b[1;32m   1395\u001b[0m     \u001b[38;5;28;01mpass\u001b[39;00m \u001b[38;5;66;03m# User caused exit. Do not raise error message\u001b[39;00m\n\u001b[1;32m   1396\u001b[0m \u001b[38;5;28;01mif\u001b[39;00m ret_value \u001b[38;5;241m==\u001b[39m \u001b[38;5;241m6\u001b[39m:\n\u001b[0;32m-> 1397\u001b[0m     \u001b[38;5;28;01mraise\u001b[39;00m \u001b[38;5;167;01mKeyboardInterrupt\u001b[39;00m\n\u001b[1;32m   1398\u001b[0m \u001b[38;5;28;01mif\u001b[39;00m ret_value \u001b[38;5;241m==\u001b[39m \u001b[38;5;241m7\u001b[39m:\n\u001b[1;32m   1399\u001b[0m     \u001b[38;5;28;01mraise\u001b[39;00m Collision(\u001b[38;5;124m\"\u001b[39m\u001b[38;5;124mTwo particles collided (d < r1+r2)\u001b[39m\u001b[38;5;124m\"\u001b[39m)\n",
      "\u001b[0;31mKeyboardInterrupt\u001b[0m: "
     ]
    }
   ],
   "source": [
    "sampler, pos, prob, state = main(p0, nwalkers, niter, ndim, lnprob, data)"
   ]
  },
  {
   "cell_type": "markdown",
   "id": "b3360c67",
   "metadata": {},
   "source": [
    "chi_data = np.genfromtxt('chi_param_chain.txt')\n",
    "chi = chi_data[:,0]\n",
    "\n",
    "fft_chi = np.fft.rfft(chi)\n",
    "freq = np.fft.fftfreq(len(chi))\n",
    "\n",
    "plt.plot(freq, fft_chi)\n",
    "plt.xlabel('Frequency [Hz]')\n",
    "plt.ylabel('Fourier transform of chain')\n",
    "plt.title('Chi squared convergence')"
   ]
  },
  {
   "cell_type": "code",
   "execution_count": null,
   "id": "c96ef9c8",
   "metadata": {},
   "outputs": [],
   "source": []
  }
 ],
 "metadata": {
  "kernelspec": {
   "display_name": "Python 3 (ipykernel)",
   "language": "python",
   "name": "python3"
  },
  "language_info": {
   "codemirror_mode": {
    "name": "ipython",
    "version": 3
   },
   "file_extension": ".py",
   "mimetype": "text/x-python",
   "name": "python",
   "nbconvert_exporter": "python",
   "pygments_lexer": "ipython3",
   "version": "3.9.12"
  }
 },
 "nbformat": 4,
 "nbformat_minor": 5
}
