{
 "cells": [
  {
   "cell_type": "code",
   "execution_count": 2,
   "id": "d66cd62f",
   "metadata": {},
   "outputs": [],
   "source": [
    "import emcee\n",
    "import os\n",
    "import rebound\n",
    "import numpy as np\n",
    "import pandas as pd\n",
    "from scipy import stats\n",
    "import astropy.constants as ast\n",
    "import matplotlib.pyplot as plt"
   ]
  },
  {
   "cell_type": "markdown",
   "id": "abaccbb2",
   "metadata": {},
   "source": [
    "### Data Import"
   ]
  },
  {
   "cell_type": "code",
   "execution_count": 3,
   "id": "415fd99d",
   "metadata": {},
   "outputs": [],
   "source": [
    "const ={\n",
    "    'G' :  6.67430e10-11, #SI\n",
    "    'R_b' : 0.0677, #AU\n",
    "    'R_c' : 0.1189 , #AU\n",
    "    'R_d' : 0.1662, #AU\n",
    "    'R_e' : 0.2138, #AU\n",
    "    'R_f' : 0.2535, #AU\n",
    "    'P_b' : 5.7, # days\n",
    "    'P_c' : 13.2, # days\n",
    "    'P_d' : 21.8, # days\n",
    "    'P_e' : 31.8, # days\n",
    "    'P_f' : 41,# days\n",
    "    'M_b' : 3.68, #Earth\n",
    "    'M_c' : 0.39, #Earth\n",
    "    'M_d': 3.91, #Earth\n",
    "    'M_e' : 5.57, #Earth\n",
    "    'M_f': 9.6, #Earth\n",
    "    'AU' : 1.496e11, #m\n",
    "    'M_star' : 1.29, # solar mass\n",
    "    'M_sun' : 1.988e30, # kg\n",
    "    'day_to_sec' : 86400,\n",
    "    'M_earth' : 5972e24, #kg\n",
    "    'M_earth_sun' : 3e-6 # solar masses\n",
    "}"
   ]
  },
  {
   "cell_type": "code",
   "execution_count": 4,
   "id": "692e9fc7",
   "metadata": {},
   "outputs": [],
   "source": [
    "data1 = np.genfromtxt('koi707_timing/koi0707.01.tt')\n",
    "data2 = np.genfromtxt('koi707_timing/koi0707.02.tt')\n",
    "data3 = np.genfromtxt('koi707_timing/koi0707.03.tt')\n",
    "data4 = np.genfromtxt('koi707_timing/koi0707.04.tt')\n",
    "data5 = np.genfromtxt('koi707_timing/koi0707.05.tt')\n",
    "\n",
    "data = [data1, data2, data3, data4, data5] # All data together\n",
    "x = np.zeros_like(data1[:,0]) # Setting up dummy variable for later\n",
    "\n",
    "y_array = [] \n",
    "y_err_array = []\n",
    "\n",
    "for i in range(len(data)):\n",
    "    \n",
    "    inter = data[i]\n",
    "    \n",
    "    y_array.append(inter[:,0]+inter[:,1]) # Adding the first 2 columns of data\n",
    "    y_err_array.append(inter[:,2]) # Creating uncertainty array\n",
    "\n",
    "    \n",
    "## Planet c (index 1) has the smallest initial time\n",
    "final_y = []\n",
    "for i in (y_array):\n",
    "    final_y.append(i - y_array[1][0]) # Resetting time to get c at s t=0 starting time"
   ]
  },
  {
   "cell_type": "code",
   "execution_count": 5,
   "id": "98df1cee",
   "metadata": {},
   "outputs": [],
   "source": [
    "def fCalc(b4T0, P, e):\n",
    "    '''\n",
    "    To approximate the starting positions. First, we find the mean ananomaly, taking T0 as periapsis.\n",
    "    Then, we approximate the eccentric ananomaly as the mean ananomaly as e is small. We then directly\n",
    "    derive our true ananomaly from our eccentric ananomaly, given as the alternate form from\n",
    "    https://en.wikipedia.org/wiki/True_anomaly\n",
    "    '''\n",
    "    M = (P - b4T0)/P # mean ananomaly approximately eccentric ananomaly when e is small.\n",
    "    # The calculation to derive the true \n",
    "    beta = e/(1+np.sqrt(1-e**2))\n",
    "    temp = beta*np.sin(M)/(1-beta*np.cos(M))\n",
    "    f = M + 2*np.arctan(temp)\n",
    "    return f\n",
    "\n",
    "    \n",
    "# Handling our data which are the parameters for the simulation. \n",
    "exoNames = ['b', 'c', 'd', 'e', 'f']\n",
    "df = pd.read_csv('kep33Data(Sheet1).csv', names=exoNames)\n",
    "\n",
    "# Getting the required data for inputting into the parameters.\n",
    "getData = lambda idx: np.array(df.iloc[idx], dtype=float)\n",
    "eArr = getData(1)\n",
    "fCol = fCalc(getData(4), getData(0), eArr) # true anomaly gives us our initial position but this must be calculated from our timings.\n"
   ]
  },
  {
   "cell_type": "markdown",
   "id": "d5e03dd2",
   "metadata": {},
   "source": [
    "### Orbit functions"
   ]
  },
  {
   "cell_type": "code",
   "execution_count": 6,
   "id": "cdf7d86b",
   "metadata": {},
   "outputs": [],
   "source": [
    "def transit(x, y, dt):\n",
    "    ' Define the transit to be at y=0 in the axis on the right (x positive) '\n",
    "    t_transit = []\n",
    "    \n",
    "    if np.where(y == 0)[0] != []: # Verifying if there is a y = 0 solution\n",
    "        for i in range(len(y)):\n",
    "            if np.abs(x[i]) == x[i]:  # Verifying if x is positive\n",
    "                # Adding time by taking the index (number of iterations) * change in t\n",
    "                t_transit.append(dt*i)\n",
    "    else:\n",
    "        index = np.where(np.diff(np.sign(y)))[0] # Getting array where y value changes sign\n",
    "        for i in index:\n",
    "            if np.abs(x[i]) == x[i]: # Verifying if x is positive\n",
    "                #Taking proportion to interpolate time value at y=0\n",
    "                diff = np.abs(y[i]-y[i+1])\n",
    "                prop = np.abs(y[i])/diff\n",
    "                new_dt = prop*dt\n",
    "                t = dt*(i)+new_dt #Time at index and additional time\n",
    "                t_transit.append(t)\n",
    "                \n",
    "    return t_transit"
   ]
  },
  {
   "cell_type": "code",
   "execution_count": 7,
   "id": "511d87fb",
   "metadata": {},
   "outputs": [],
   "source": [
    "def orbit_setup(params):\n",
    "    mass_earth = 3e-6 # Mass earth in solar masses\n",
    "    \n",
    "    kep33 = rebound.Simulation() # This sets up our system\n",
    "    # kep33.integrator = 'whfast'\n",
    "    # Our star is at the centre of the system with no velocity etc, so no orbital elements for it except mass.\n",
    "    kep33.add(m=1.29) \n",
    "    # Populating the simulation with our planets right now. \n",
    "    for i, colName in enumerate(exoNames):\n",
    "        if i == 3:\n",
    "            kep33.add(m=params[0], P=getData(0)[i], e=params[2], f=params[1], inc=np.pi/2)\n",
    "        else:\n",
    "            kep33.add(m=(getData(3)* (ast.M_earth.value/ast.M_sun.value))[i], P=getData(0)[i], e=getData(1)[i], inc=np.pi/2, f=fCol[i])\n",
    "\n",
    "    kep33.move_to_com() # Moving our system to the centre of mass frame, which should be in the star\n",
    "            \n",
    "\n",
    "    times = np.arange(0, 365, 0.01) # Randomly spaced observations for a year\n",
    "    dt = np.mean(np.gradient(times)) # Time step\n",
    "    N = len(times) # Number of iterations\n",
    "    # Set up 0 arrays to update with x and y values\n",
    "    p1,p2,p3,p4,p5 = np.zeros((N,2)), np.zeros((N,2)),np.zeros((N,2)),np.zeros((N,2)),np.zeros((N,2))\n",
    "\n",
    "    for i, t in enumerate(times):\n",
    "        kep33.integrate(times[i]) # Integrator\n",
    "        # Uodating x and y values for each planet\n",
    "        p1[i] = np.array([kep33.particles[1].x, kep33.particles[1].y])\n",
    "        p2[i] = np.array([kep33.particles[2].x, kep33.particles[2].y])\n",
    "        p3[i] = np.array([kep33.particles[3].x, kep33.particles[3].y])\n",
    "        p4[i] = np.array([kep33.particles[4].x, kep33.particles[4].y])\n",
    "        p5[i] = np.array([kep33.particles[5].x, kep33.particles[5].y])\n",
    "        \n",
    "#     Finding transits with our planet\n",
    "    t_transit_2 = transit(p2[:, 0], p2[:, 1], dt)\n",
    "\n",
    "#     t_transit_1 = transit(p1[:, 0], p1[:, 1], dt)\n",
    "#     t_transit_3 = transit(p3[:, 0], p3[:, 1], dt)\n",
    "#     t_transit_4 = transit(p4[:, 0], p4[:, 1], dt)\n",
    "#     t_transit_5 = transit(p5[:, 0], p5[:, 1], dt)\n",
    "    \n",
    "    \n",
    "    return t_transit_2 #np.array[t_transit_1, t_transit_2, t_transit_3, t_transit_4, t_transit_5]"
   ]
  },
  {
   "cell_type": "markdown",
   "id": "d103a1ea",
   "metadata": {},
   "source": [
    "### MCMC Functions"
   ]
  },
  {
   "cell_type": "code",
   "execution_count": 8,
   "id": "3d240a25",
   "metadata": {},
   "outputs": [],
   "source": [
    "def model(theta, x=x):\n",
    "    # Parameters\n",
    "    M, f, e = theta\n",
    "    params = np.array([M, f, e])\n",
    "    model = orbit_setup(params) # Getting our model transit time\n",
    "    return model\n",
    "\n",
    "def lnlike(theta, x, y, yerr):\n",
    "    ymodel = model(theta)\n",
    "    \n",
    "    # Getting the same number of transits \n",
    "    # Maybe append zeros intead??? -------------------------\n",
    "    if len(ymodel)>len(y):\n",
    "        ymodel = ymodel[0:len(y)]\n",
    "        \n",
    "    elif len(ymodel)<len(y):\n",
    "        y = y[0:len(ymodel)]\n",
    "        yerr = yerr[0:len(ymodel)]\n",
    "\n",
    "    # Getting proportionality value\n",
    "    LnLike = -0.5*np.sum(((y - ymodel)/yerr)**2)\n",
    "    # Getting chi square value\n",
    "    chi = np.sum(((y - ymodel)**2)/ymodel)\n",
    "    \n",
    "    # Updating txt file\n",
    "    file = open('chi_param_chain.txt', 'a')\n",
    "    file.write(str(chi)+'\\t'+str(theta)+'\\n')\n",
    "    file.close()\n",
    "    \n",
    "    return LnLike\n",
    "\n",
    "def lnprob(theta, x, y, yerr):\n",
    "    # Calculating probability\n",
    "    like = lnlike(theta, x, y, yerr)\n",
    "    return like\n"
   ]
  },
  {
   "cell_type": "code",
   "execution_count": 9,
   "id": "f32d5ba6",
   "metadata": {},
   "outputs": [],
   "source": [
    "#Resetting file\n",
    "reset = open(\"chi_param_chain.txt\",'w')\n",
    "reset.close()\n",
    "\n",
    "\n",
    "# Adding title\n",
    "file =  open('chi_param_chain.txt', 'a')\n",
    "file.write('chi\\tparam\\n')\n",
    "file.close()\n",
    "\n",
    "# Initial params\n",
    "M = (getData(3)* (ast.M_earth.value/ast.M_sun.value))[3]+1.5e-6\n",
    "f = fCol[3]+0.009\n",
    "e = getData(1)[3]+0.01\n",
    "\n",
    "p_initial = np.array([M, f, e])\n",
    "ndim = len(p_initial)\n",
    "nwalkers = 13\n",
    "niter = 300\n",
    "data = (x, final_y[3][1:], y_err_array[3][1:])\n",
    "p0 = [np.array(p_initial) + 1e-4 * np.random.randn(ndim) for i in range(nwalkers)]\n"
   ]
  },
  {
   "cell_type": "code",
   "execution_count": 10,
   "id": "8923a8f0",
   "metadata": {},
   "outputs": [],
   "source": [
    "def main(p0, nwalkers, niter, ndim, lnprob, data):\n",
    "    sampler = emcee.EnsembleSampler(nwalkers, ndim, lnprob, args=data)\n",
    "\n",
    "    print(\"Running burn-in...\")\n",
    "    p0, _, _ = sampler.run_mcmc(p0, 100)\n",
    "    sampler.reset()\n",
    "\n",
    "    print(\"Running production...\")\n",
    "    pos, prob, state = sampler.run_mcmc(p0, niter)\n",
    "\n",
    "    return sampler, pos, prob, state"
   ]
  },
  {
   "cell_type": "code",
   "execution_count": null,
   "id": "a8d4d1e0",
   "metadata": {},
   "outputs": [
    {
     "name": "stdout",
     "output_type": "stream",
     "text": [
      "Running burn-in...\n"
     ]
    },
    {
     "name": "stderr",
     "output_type": "stream",
     "text": [
      "/var/folders/ff/_r7359n921zcpcgllv4znt_40000gn/T/ipykernel_20769/3167903028.py:5: DeprecationWarning: The truth value of an empty array is ambiguous. Returning False, but in future this will result in an error. Use `array.size > 0` to check that an array is not empty.\n",
      "  if np.where(y == 0)[0] != []: # Verifying if there is a y = 0 solution\n"
     ]
    }
   ],
   "source": [
    "sampler, pos, prob, state = main(p0, nwalkers, niter, ndim, lnprob, data)"
   ]
  },
  {
   "cell_type": "code",
   "execution_count": null,
   "id": "74cbe50b",
   "metadata": {},
   "outputs": [],
   "source": []
  },
  {
   "cell_type": "code",
   "execution_count": null,
   "id": "c96ef9c8",
   "metadata": {},
   "outputs": [],
   "source": []
  }
 ],
 "metadata": {
  "kernelspec": {
   "display_name": "Python 3 (ipykernel)",
   "language": "python",
   "name": "python3"
  },
  "language_info": {
   "codemirror_mode": {
    "name": "ipython",
    "version": 3
   },
   "file_extension": ".py",
   "mimetype": "text/x-python",
   "name": "python",
   "nbconvert_exporter": "python",
   "pygments_lexer": "ipython3",
   "version": "3.9.12"
  }
 },
 "nbformat": 4,
 "nbformat_minor": 5
}
