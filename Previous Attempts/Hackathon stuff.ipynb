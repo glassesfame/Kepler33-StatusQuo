{
 "cells": [
  {
   "cell_type": "code",
   "execution_count": 2,
   "id": "405bae57",
   "metadata": {},
   "outputs": [],
   "source": [
    "import rebound\n",
    "import numpy as np\n",
    "import matplotlib.pyplot as plt\n",
    "import emcee\n",
    "import corner"
   ]
  },
  {
   "cell_type": "markdown",
   "id": "62f1e2f9",
   "metadata": {},
   "source": [
    "### Data Import"
   ]
  },
  {
   "cell_type": "code",
   "execution_count": 3,
   "id": "f0ea6911",
   "metadata": {},
   "outputs": [],
   "source": [
    "data1 = np.genfromtxt('koi707_timing/koi0707.01.tt')\n",
    "data2 = np.genfromtxt('koi707_timing/koi0707.02.tt')\n",
    "data3 = np.genfromtxt('koi707_timing/koi0707.03.tt')\n",
    "data4 = np.genfromtxt('koi707_timing/koi0707.04.tt')\n",
    "data5 = np.genfromtxt('koi707_timing/koi0707.05.tt')\n",
    "\n",
    "data = [data1, data2, data3, data4, data5]"
   ]
  },
  {
   "cell_type": "code",
   "execution_count": 4,
   "id": "eef5eee8",
   "metadata": {},
   "outputs": [],
   "source": [
    "y_array = []\n",
    "y_err_array = []\n",
    "\n",
    "for i in range(len(data)):\n",
    "    \n",
    "    inter = data[i]\n",
    "    \n",
    "    y_array.append(inter[:,0]+inter[:,1])\n",
    "    y_err_array.append(inter[:,2])"
   ]
  },
  {
   "cell_type": "code",
   "execution_count": 5,
   "id": "4e19b8ae",
   "metadata": {},
   "outputs": [],
   "source": [
    "## Planet c (index 1) has the smallest initial time\n",
    "\n",
    "final_y = []\n",
    "for i in (y_array):\n",
    "    final_y.append(i - y_array[1][0])\n",
    "    "
   ]
  },
  {
   "cell_type": "code",
   "execution_count": 6,
   "id": "668a0427",
   "metadata": {},
   "outputs": [],
   "source": [
    "const ={\n",
    "    'G' :  6.67430e10-11, #SI\n",
    "    'R_b' : 0.0677, #AU\n",
    "    'R_c' : 0.1189 , #AU\n",
    "    'R_d' : 0.1662, #AU\n",
    "    'R_e' : 0.2138, #AU\n",
    "    'R_f' : 0.2535, #AU\n",
    "    'P_b' : 5.7, # days\n",
    "    'P_c' : 13.2, # days\n",
    "    'P_d' : 21.8, # days\n",
    "    'P_e' : 31.8, # days\n",
    "    'P_f' : 41,# days\n",
    "    'M_b' : 3.68, #Earth\n",
    "    'M_c' : 0.39, #Earth\n",
    "    'M_d': 3.91, #Earth\n",
    "    'M_e' : 5.57, #Earth\n",
    "    'M_f': 9.6, #Earth\n",
    "    'AU' : 1.496e11, #m\n",
    "    'M_star' : 1.29, # solar mass\n",
    "    'M_sun' : 1.988e30, # kg\n",
    "    'day_to_sec' : 86400,\n",
    "    'M_earth' : 5972e24 #kg\n",
    "}\n",
    "\n",
    "\n",
    "def start_pos(time, r, period):\n",
    "    dist = time*(2*np.pi*r)/period\n",
    "    theta = dist/r\n",
    "    x = r*np.cos(theta)\n",
    "    y = r*np.sin(theta)\n",
    "\n",
    "    x = x/const['AU']\n",
    "    y = y/const['AU']\n",
    "    \n",
    "    \n",
    "    return x, y, theta\n",
    "\n",
    "\n",
    "x_b, y_b, theta_b = start_pos(final_y[0][1], const['R_b']*const['AU'], const['P_b']*const['day_to_sec'])\n",
    "x_d, y_d, theta_d = start_pos(final_y[2][1], const['R_d']*const['AU'], const['P_d']*const['day_to_sec'])\n",
    "x_e, y_e, theta_e = start_pos(final_y[3][1], const['R_e']*const['AU'], const['P_e']*const['day_to_sec'])\n",
    "x_f, y_f, theta_f = start_pos(final_y[4][1], const['R_f']*const['AU'], const['P_f']*const['day_to_sec'])\n",
    "\n",
    "\n",
    "x = np.array([x_b, const['R_c'], x_d, x_e, x_f])\n",
    "y = np.array([y_b, 0, y_d, y_e, y_f])"
   ]
  },
  {
   "cell_type": "code",
   "execution_count": 7,
   "id": "b54248c1",
   "metadata": {},
   "outputs": [],
   "source": [
    "def orb_v2(r, p, theta):\n",
    "    v = 2*np.pi*r/p\n",
    "    vy = v*np.sin(theta)\n",
    "    vx = v*np.cos(theta)\n",
    "    return vy, vx\n",
    "\n",
    "v2y_b, v2x_b = orb_v2(const['R_b'], const['P_b'], theta_b)\n",
    "v2y_c, v2x_c = orb_v2(const['R_c'], const['P_c'], 0)\n",
    "v2y_d, v2x_d = orb_v2(const['R_d'], const['P_d'], theta_d)\n",
    "v2y_e, v2x_e = orb_v2(const['R_e'], const['P_e'], theta_e)\n",
    "v2y_f, v2x_f = orb_v2(const['R_f'], const['P_f'], theta_f)\n",
    "\n",
    "v02_y = [v2y_b, v2y_c, v2y_d, v2y_e, v2y_f]\n",
    "v02_x = [v2x_b, v2x_c, v2x_d, v2x_e, v2x_f]"
   ]
  },
  {
   "cell_type": "code",
   "execution_count": null,
   "id": "cb216dc9",
   "metadata": {},
   "outputs": [],
   "source": []
  }
 ],
 "metadata": {
  "kernelspec": {
   "display_name": "Python 3 (ipykernel)",
   "language": "python",
   "name": "python3"
  },
  "language_info": {
   "codemirror_mode": {
    "name": "ipython",
    "version": 3
   },
   "file_extension": ".py",
   "mimetype": "text/x-python",
   "name": "python",
   "nbconvert_exporter": "python",
   "pygments_lexer": "ipython3",
   "version": "3.9.12"
  }
 },
 "nbformat": 4,
 "nbformat_minor": 5
}
